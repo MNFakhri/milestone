{
 "cells": [
  {
   "cell_type": "code",
   "execution_count": 1,
   "metadata": {},
   "outputs": [
    {
     "name": "stderr",
     "output_type": "stream",
     "text": [
      "c:\\Users\\ASUS\\anaconda3\\lib\\site-packages\\scipy\\__init__.py:146: UserWarning: A NumPy version >=1.16.5 and <1.23.0 is required for this version of SciPy (detected version 1.23.0\n",
      "  warnings.warn(f\"A NumPy version >={np_minversion} and <{np_maxversion}\"\n"
     ]
    },
    {
     "data": {
      "text/html": [
       "        <script type=\"text/javascript\">\n",
       "        window.PlotlyConfig = {MathJaxConfig: 'local'};\n",
       "        if (window.MathJax && window.MathJax.Hub && window.MathJax.Hub.Config) {window.MathJax.Hub.Config({SVG: {font: \"STIX-Web\"}});}\n",
       "        if (typeof require !== 'undefined') {\n",
       "        require.undef(\"plotly\");\n",
       "        requirejs.config({\n",
       "            paths: {\n",
       "                'plotly': ['https://cdn.plot.ly/plotly-2.12.1.min']\n",
       "            }\n",
       "        });\n",
       "        require(['plotly'], function(Plotly) {\n",
       "            window._Plotly = Plotly;\n",
       "        });\n",
       "        }\n",
       "        </script>\n",
       "        "
      ]
     },
     "metadata": {},
     "output_type": "display_data"
    }
   ],
   "source": [
    "import pandas as pd\n",
    "from scipy import stats\n",
    "import numpy as np\n",
    "import plotly as py\n",
    "from plotly import graph_objs as go\n",
    "from plotly.offline import iplot, init_notebook_mode\n",
    "from plotly import tools\n",
    "init_notebook_mode(connected=True)"
   ]
  },
  {
   "cell_type": "code",
   "execution_count": 3,
   "metadata": {},
   "outputs": [
    {
     "data": {
      "text/html": [
       "<div>\n",
       "<style scoped>\n",
       "    .dataframe tbody tr th:only-of-type {\n",
       "        vertical-align: middle;\n",
       "    }\n",
       "\n",
       "    .dataframe tbody tr th {\n",
       "        vertical-align: top;\n",
       "    }\n",
       "\n",
       "    .dataframe thead th {\n",
       "        text-align: right;\n",
       "    }\n",
       "</style>\n",
       "<table border=\"1\" class=\"dataframe\">\n",
       "  <thead>\n",
       "    <tr style=\"text-align: right;\">\n",
       "      <th></th>\n",
       "      <th>Nama Warna</th>\n",
       "      <th>HEX</th>\n",
       "      <th>Warna RGB</th>\n",
       "    </tr>\n",
       "  </thead>\n",
       "  <tbody>\n",
       "    <tr>\n",
       "      <th>0</th>\n",
       "      <td>Aqua</td>\n",
       "      <td>#00FFFF</td>\n",
       "      <td>rgb(0, 255, 254)</td>\n",
       "    </tr>\n",
       "    <tr>\n",
       "      <th>1</th>\n",
       "      <td>Aquamarine</td>\n",
       "      <td>#7FFFD4</td>\n",
       "      <td>rgb(115, 255, 216)</td>\n",
       "    </tr>\n",
       "    <tr>\n",
       "      <th>2</th>\n",
       "      <td>Black</td>\n",
       "      <td>#000000</td>\n",
       "      <td>rgb(0, 0, 0)</td>\n",
       "    </tr>\n",
       "    <tr>\n",
       "      <th>3</th>\n",
       "      <td>Blue</td>\n",
       "      <td>#0000FF</td>\n",
       "      <td>rgb(0, 0, 255)</td>\n",
       "    </tr>\n",
       "    <tr>\n",
       "      <th>4</th>\n",
       "      <td>Blue Violet</td>\n",
       "      <td>#8A2BE2</td>\n",
       "      <td>rgb(138, 43, 226)</td>\n",
       "    </tr>\n",
       "    <tr>\n",
       "      <th>...</th>\n",
       "      <td>...</td>\n",
       "      <td>...</td>\n",
       "      <td>...</td>\n",
       "    </tr>\n",
       "    <tr>\n",
       "      <th>108</th>\n",
       "      <td>Turquoise</td>\n",
       "      <td>#40E0D0</td>\n",
       "      <td>rgb(64, 224, 208)</td>\n",
       "    </tr>\n",
       "    <tr>\n",
       "      <th>109</th>\n",
       "      <td>Violet</td>\n",
       "      <td>#EE82EE</td>\n",
       "      <td>rgb(238, 130, 238)</td>\n",
       "    </tr>\n",
       "    <tr>\n",
       "      <th>110</th>\n",
       "      <td>Wheat</td>\n",
       "      <td>#F5DEB3</td>\n",
       "      <td>rgb(245, 222, 179)</td>\n",
       "    </tr>\n",
       "    <tr>\n",
       "      <th>111</th>\n",
       "      <td>Yellow</td>\n",
       "      <td>#FFFF00</td>\n",
       "      <td>rgb(255, 255, 0)</td>\n",
       "    </tr>\n",
       "    <tr>\n",
       "      <th>112</th>\n",
       "      <td>Yellow Green</td>\n",
       "      <td>#9ACD32</td>\n",
       "      <td>rgb(154, 205, 49)</td>\n",
       "    </tr>\n",
       "  </tbody>\n",
       "</table>\n",
       "<p>113 rows × 3 columns</p>\n",
       "</div>"
      ],
      "text/plain": [
       "       Nama Warna      HEX           Warna RGB\n",
       "0            Aqua  #00FFFF    rgb(0, 255, 254)\n",
       "1      Aquamarine  #7FFFD4  rgb(115, 255, 216)\n",
       "2           Black  #000000        rgb(0, 0, 0)\n",
       "3            Blue  #0000FF      rgb(0, 0, 255)\n",
       "4     Blue Violet  #8A2BE2   rgb(138, 43, 226)\n",
       "..            ...      ...                 ...\n",
       "108     Turquoise  #40E0D0   rgb(64, 224, 208)\n",
       "109        Violet  #EE82EE  rgb(238, 130, 238)\n",
       "110         Wheat  #F5DEB3  rgb(245, 222, 179)\n",
       "111        Yellow  #FFFF00    rgb(255, 255, 0)\n",
       "112  Yellow Green  #9ACD32   rgb(154, 205, 49)\n",
       "\n",
       "[113 rows x 3 columns]"
      ]
     },
     "execution_count": 3,
     "metadata": {},
     "output_type": "execute_result"
    }
   ],
   "source": [
    "data_warna = pd.read_csv(\"list_warna.csv\",sep=\";\")\n",
    "data_warna"
   ]
  },
  {
   "cell_type": "code",
   "execution_count": 6,
   "metadata": {},
   "outputs": [
    {
     "data": {
      "text/plain": [
       "array(['#00FFFF', '#7FFFD4', '#000000', '#0000FF', '#8A2BE2', '#A52A2A',\n",
       "       '#DEB887', '#5F9EA0', '#7FFF00', '#D2691E', '#FF7F50', '#6495ED',\n",
       "       '#DC143C', '#00FFFF', '#00008B', '#008B8B', '#B8860B', '#A9A9A9',\n",
       "       '#006400', '#BDB76B', '#8B008B', '#556B2F', '#FF8C00', '#9932CC',\n",
       "       '#8B0000', '#E9967A', '#8FBC8F', '#483D8B', '#2F4F4F', '#00CED1',\n",
       "       '#9400D3', '#FF1493', '#00BFFF', '#696969', '#1E90FF', '#B22222',\n",
       "       '#228B22', '#FF00FF', '#FFD700', '#DAA520', '#808080', '#008000',\n",
       "       '#ADFF2F', '#FF69B4', '#CD5C5C', '#4B0082', '#F0E68C', '#7CFC00',\n",
       "       '#ADD8E6', '#F08080', '#D3D3D3', '#90EE90', '#FFB6C1', '#FFA07A',\n",
       "       '#20B2AA', '#87CEFA', '#778899', '#B0C4DE', '#00FF00', '#32CD32',\n",
       "       '#FF00FF', '#800000', '#66CDAA', '#0000CD', '#BA55D3', '#9370DB',\n",
       "       '#3CB371', '#7B68EE', '#00FA9A', '#48D1CC', '#C71585', '#191970',\n",
       "       '#FFE4B5', '#FFDEAD', '#000080', '#808000', '#6B8E23', '#FFA500',\n",
       "       '#FF4500', '#DA70D6', '#EEE8AA', '#98FB98', '#AFEEEE', '#DB7093',\n",
       "       '#CD853F', '#FFC0CB', '#DDA0DD', '#B0E0E6', '#800080', '#663399',\n",
       "       '#FF0000', '#BC8F8F', '#4169E1', '#8B4513', '#FA8072', '#F4A460',\n",
       "       '#2E8B57', '#A0522D', '#C0C0C0', '#87CEEB', '#6A5ACD', '#708090',\n",
       "       '#00FF7F', '#4682B4', '#D2B48C', '#008080', '#D8BFD8', '#FF6347',\n",
       "       '#40E0D0', '#EE82EE', '#F5DEB3', '#FFFF00', '#9ACD32'],\n",
       "      dtype=object)"
      ]
     },
     "execution_count": 6,
     "metadata": {},
     "output_type": "execute_result"
    }
   ],
   "source": [
    "list_warna = np.array(data_warna[\"HEX\"])\n",
    "list_warna"
   ]
  },
  {
   "cell_type": "code",
   "execution_count": 9,
   "metadata": {},
   "outputs": [
    {
     "data": {
      "text/plain": [
       "array(['#00FFFF', '#7FFFD4', '#000000', '#0000FF', '#8A2BE2', '#A52A2A',\n",
       "       '#DEB887', '#5F9EA0', '#7FFF00', '#D2691E', '#FF7F50', '#6495ED',\n",
       "       '#DC143C', '#00FFFF', '#00008B', '#008B8B', '#B8860B', '#A9A9A9',\n",
       "       '#006400', '#BDB76B', '#8B008B', '#556B2F', '#FF8C00', '#9932CC',\n",
       "       '#8B0000', '#E9967A', '#8FBC8F', '#483D8B', '#2F4F4F', '#00CED1',\n",
       "       '#9400D3', '#FF1493', '#00BFFF', '#696969', '#1E90FF', '#B22222',\n",
       "       '#228B22', '#FF00FF', '#FFD700', '#DAA520', '#808080', '#008000',\n",
       "       '#ADFF2F', '#FF69B4', '#CD5C5C', '#4B0082', '#F0E68C', '#7CFC00',\n",
       "       '#ADD8E6', '#F08080', '#D3D3D3'], dtype=object)"
      ]
     },
     "execution_count": 9,
     "metadata": {},
     "output_type": "execute_result"
    }
   ],
   "source": [
    "list_warna[:51]"
   ]
  }
 ],
 "metadata": {
  "kernelspec": {
   "display_name": "Python 3.9.12 ('base')",
   "language": "python",
   "name": "python3"
  },
  "language_info": {
   "codemirror_mode": {
    "name": "ipython",
    "version": 3
   },
   "file_extension": ".py",
   "mimetype": "text/x-python",
   "name": "python",
   "nbconvert_exporter": "python",
   "pygments_lexer": "ipython3",
   "version": "3.9.12"
  },
  "orig_nbformat": 4,
  "vscode": {
   "interpreter": {
    "hash": "a90aeebcf29d64a654773811cc170cb25061cb2498f10ac689db374c7bf325de"
   }
  }
 },
 "nbformat": 4,
 "nbformat_minor": 2
}
