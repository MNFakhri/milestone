{
 "cells": [
  {
   "cell_type": "markdown",
   "metadata": {
    "_uuid": "c40276d13287a5d27733e8de9990a69c7640ede9"
   },
   "source": [
    "# Data\n",
    "\n",
    "The dataset has **800 rows** and **11 columns**. It includes 721 Pokemons from Generation I to Generation VI. Mega Pokemons also included and they share the same ID number as their former form, that's explain why the row is increased to 800."
   ]
  },
  {
   "cell_type": "code",
   "execution_count": 1,
   "metadata": {
    "_kg_hide-input": true,
    "_uuid": "df29f6ca0e24beb2a6da12a770badf66d3dc43e7"
   },
   "outputs": [],
   "source": [
    "import plotly as py\n",
    "from plotly import graph_objs as go\n",
    "from plotly.offline import iplot, init_notebook_mode\n",
    "from plotly import tools\n",
    "\n",
    "import numpy as np\n",
    "import pandas as pd"
   ]
  },
  {
   "cell_type": "code",
   "execution_count": 2,
   "metadata": {
    "_kg_hide-input": true,
    "_uuid": "4c783c86069910dab7eefc5b52d804a49183fdf8"
   },
   "outputs": [
    {
     "data": {
      "text/html": [
       "<script type=\"text/javascript\">window.PlotlyConfig = {MathJaxConfig: 'local'};</script><script type=\"text/javascript\">if (window.MathJax) {MathJax.Hub.Config({SVG: {font: \"STIX-Web\"}});}</script><script>requirejs.config({paths: { 'plotly': ['https://cdn.plot.ly/plotly-latest.min']},});if(!window._Plotly) {require(['plotly'],function(plotly) {window._Plotly=plotly;});}</script>"
      ],
      "text/vnd.plotly.v1+html": [
       "<script type=\"text/javascript\">window.PlotlyConfig = {MathJaxConfig: 'local'};</script><script type=\"text/javascript\">if (window.MathJax) {MathJax.Hub.Config({SVG: {font: \"STIX-Web\"}});}</script><script>requirejs.config({paths: { 'plotly': ['https://cdn.plot.ly/plotly-latest.min']},});if(!window._Plotly) {require(['plotly'],function(plotly) {window._Plotly=plotly;});}</script>"
      ]
     },
     "metadata": {},
     "output_type": "display_data"
    }
   ],
   "source": [
    "init_notebook_mode(connected=True)"
   ]
  },
  {
   "cell_type": "code",
   "execution_count": 3,
   "metadata": {
    "_kg_hide-input": false,
    "_uuid": "63db574e344ba50f1e6af6eeb953eec33530be16"
   },
   "outputs": [
    {
     "data": {
      "text/html": [
       "<div>\n",
       "<style scoped>\n",
       "    .dataframe tbody tr th:only-of-type {\n",
       "        vertical-align: middle;\n",
       "    }\n",
       "\n",
       "    .dataframe tbody tr th {\n",
       "        vertical-align: top;\n",
       "    }\n",
       "\n",
       "    .dataframe thead th {\n",
       "        text-align: right;\n",
       "    }\n",
       "</style>\n",
       "<table border=\"1\" class=\"dataframe\">\n",
       "  <thead>\n",
       "    <tr style=\"text-align: right;\">\n",
       "      <th></th>\n",
       "      <th>#</th>\n",
       "      <th>Name</th>\n",
       "      <th>Type 1</th>\n",
       "      <th>Type 2</th>\n",
       "      <th>Total</th>\n",
       "      <th>HP</th>\n",
       "      <th>Attack</th>\n",
       "      <th>Defense</th>\n",
       "      <th>Sp. Atk</th>\n",
       "      <th>Sp. Def</th>\n",
       "      <th>Speed</th>\n",
       "      <th>Generation</th>\n",
       "      <th>Legendary</th>\n",
       "    </tr>\n",
       "  </thead>\n",
       "  <tbody>\n",
       "    <tr>\n",
       "      <th>0</th>\n",
       "      <td>1</td>\n",
       "      <td>Bulbasaur</td>\n",
       "      <td>Grass</td>\n",
       "      <td>Poison</td>\n",
       "      <td>318</td>\n",
       "      <td>45</td>\n",
       "      <td>49</td>\n",
       "      <td>49</td>\n",
       "      <td>65</td>\n",
       "      <td>65</td>\n",
       "      <td>45</td>\n",
       "      <td>1</td>\n",
       "      <td>False</td>\n",
       "    </tr>\n",
       "    <tr>\n",
       "      <th>1</th>\n",
       "      <td>2</td>\n",
       "      <td>Ivysaur</td>\n",
       "      <td>Grass</td>\n",
       "      <td>Poison</td>\n",
       "      <td>405</td>\n",
       "      <td>60</td>\n",
       "      <td>62</td>\n",
       "      <td>63</td>\n",
       "      <td>80</td>\n",
       "      <td>80</td>\n",
       "      <td>60</td>\n",
       "      <td>1</td>\n",
       "      <td>False</td>\n",
       "    </tr>\n",
       "    <tr>\n",
       "      <th>2</th>\n",
       "      <td>3</td>\n",
       "      <td>Venusaur</td>\n",
       "      <td>Grass</td>\n",
       "      <td>Poison</td>\n",
       "      <td>525</td>\n",
       "      <td>80</td>\n",
       "      <td>82</td>\n",
       "      <td>83</td>\n",
       "      <td>100</td>\n",
       "      <td>100</td>\n",
       "      <td>80</td>\n",
       "      <td>1</td>\n",
       "      <td>False</td>\n",
       "    </tr>\n",
       "    <tr>\n",
       "      <th>3</th>\n",
       "      <td>3</td>\n",
       "      <td>VenusaurMega Venusaur</td>\n",
       "      <td>Grass</td>\n",
       "      <td>Poison</td>\n",
       "      <td>625</td>\n",
       "      <td>80</td>\n",
       "      <td>100</td>\n",
       "      <td>123</td>\n",
       "      <td>122</td>\n",
       "      <td>120</td>\n",
       "      <td>80</td>\n",
       "      <td>1</td>\n",
       "      <td>False</td>\n",
       "    </tr>\n",
       "    <tr>\n",
       "      <th>4</th>\n",
       "      <td>4</td>\n",
       "      <td>Charmander</td>\n",
       "      <td>Fire</td>\n",
       "      <td>NaN</td>\n",
       "      <td>309</td>\n",
       "      <td>39</td>\n",
       "      <td>52</td>\n",
       "      <td>43</td>\n",
       "      <td>60</td>\n",
       "      <td>50</td>\n",
       "      <td>65</td>\n",
       "      <td>1</td>\n",
       "      <td>False</td>\n",
       "    </tr>\n",
       "  </tbody>\n",
       "</table>\n",
       "</div>"
      ],
      "text/plain": [
       "   #                   Name Type 1    ...     Speed  Generation  Legendary\n",
       "0  1              Bulbasaur  Grass    ...        45           1      False\n",
       "1  2                Ivysaur  Grass    ...        60           1      False\n",
       "2  3               Venusaur  Grass    ...        80           1      False\n",
       "3  3  VenusaurMega Venusaur  Grass    ...        80           1      False\n",
       "4  4             Charmander   Fire    ...        65           1      False\n",
       "\n",
       "[5 rows x 13 columns]"
      ]
     },
     "execution_count": 3,
     "metadata": {},
     "output_type": "execute_result"
    }
   ],
   "source": [
    "# Load the data\n",
    "df = pd.read_csv('../input/Pokemon.csv')\n",
    "\n",
    "df.head()"
   ]
  },
  {
   "cell_type": "markdown",
   "metadata": {
    "_uuid": "5b50480ac668500be477f43358cad7bf1a2ba9d7"
   },
   "source": [
    "# Pokemon Type"
   ]
  },
  {
   "cell_type": "markdown",
   "metadata": {
    "_uuid": "1dee9e8ef0fea3294f50d8b7fb50c72cd8a5a107"
   },
   "source": [
    "There are 18 Pokemon type exist. Although some types was created in the late versions the data is updated and follow the latest version (e.g Clefairy & Mr. Mime which change from Normal-Fairy type)."
   ]
  },
  {
   "cell_type": "code",
   "execution_count": 4,
   "metadata": {
    "_kg_hide-input": true,
    "_uuid": "b505187202cc17f3c031517d5aaa294b4f39cad3"
   },
   "outputs": [],
   "source": [
    "#Let's normalize the data first (fill the empty value in 'Type 2' column)\n",
    "df['Type 2'].fillna('', inplace=True)\n",
    "\n",
    "# Next, list all types of pokemon\n",
    "types = df['Type 1'].unique()\n",
    "types2 = np.insert(types, 18, '')\n",
    "\n",
    "# Now we can count all Pokemon based on their types (type 1 & type 2)\n",
    "types_count = []\n",
    "for t in types:\n",
    "    criteria_1 = df['Type 1'] == t\n",
    "    criteria_2 = df['Type 2'] == t\n",
    "    \n",
    "    types_count.append(len(df[criteria_1 | criteria_2]))\n",
    "    \n",
    "# We do the same thing with Type 1 and Type 2 only\n",
    "type1_count = []\n",
    "for t in types:\n",
    "    criteria = df['Type 1'] == t\n",
    "    type1_count.append(len(df[criteria]))\n",
    "\n",
    "type2_count = []\n",
    "for t in types2:\n",
    "    criteria = df['Type 2'] == t\n",
    "    type2_count.append(len(df[criteria]))"
   ]
  },
  {
   "cell_type": "markdown",
   "metadata": {
    "_uuid": "5044953865dc8b9752810261fe5d997a2f9cb875"
   },
   "source": [
    "First I want to count the Pokemon based on their type. It's counted wether they are in Type 1 or in Type 2. For example, Charizard will also counted as Flying type since his Type 2 = Flying.\n",
    "P.S : I also make the type bar color same like their color in the game."
   ]
  },
  {
   "cell_type": "code",
   "execution_count": 5,
   "metadata": {
    "_uuid": "33754d9b3a3bfd9963bafabe55cec42f6b73abc8"
   },
   "outputs": [],
   "source": [
    "# Color list based on actual types color in game\n",
    "colors = ['#78C850', '#F08030', '#6890F0', '#A8B820', '#A8A878', '#A040A0', '#F8D030', '#E0C068',\n",
    "         '#EE99AC', '#C03028', '#F85888', '#B8A038', '#705898', '#98D8D8', '#7038F8', '#705848', '#B8B8D0',\n",
    "         '#A890F0', '#353535']"
   ]
  },
  {
   "cell_type": "code",
   "execution_count": 6,
   "metadata": {
    "_kg_hide-input": true,
    "_uuid": "7fac77dd5557cc45625f20e21002e593a0de3fb9"
   },
   "outputs": [
    {
     "data": {
      "application/vnd.plotly.v1+json": {
       "config": {
        "linkText": "Export to plot.ly",
        "plotlyServerURL": "https://plot.ly",
        "showLink": false
       },
       "data": [
        {
         "marker": {
          "color": [
           "#78C850",
           "#F08030",
           "#6890F0",
           "#A8B820",
           "#A8A878",
           "#A040A0",
           "#F8D030",
           "#E0C068",
           "#EE99AC",
           "#C03028",
           "#F85888",
           "#B8A038",
           "#705898",
           "#98D8D8",
           "#7038F8",
           "#705848",
           "#B8B8D0",
           "#A890F0",
           "#353535"
          ]
         },
         "type": "bar",
         "uid": "d22026cf-1e1c-4805-b105-552c8c94f675",
         "x": [
          "Grass",
          "Fire",
          "Water",
          "Bug",
          "Normal",
          "Poison",
          "Electric",
          "Ground",
          "Fairy",
          "Fighting",
          "Psychic",
          "Rock",
          "Ghost",
          "Ice",
          "Dragon",
          "Dark",
          "Steel",
          "Flying"
         ],
         "y": [
          95,
          64,
          126,
          72,
          102,
          62,
          50,
          67,
          40,
          53,
          90,
          58,
          46,
          38,
          50,
          51,
          49,
          101
         ]
        }
       ],
       "layout": {
        "height": 650,
        "margin": {
         "pad": 5
        },
        "title": {
         "text": "<b>Total Number of Pokemon Based on Type</b>"
        }
       }
      },
      "text/html": [
       "<div id=\"7fad9f2e-c70c-4b94-a78f-debae7aa390d\" style=\"height: 650px; width: 100%;\" class=\"plotly-graph-div\"></div><script type=\"text/javascript\">require([\"plotly\"], function(Plotly) { window.PLOTLYENV=window.PLOTLYENV || {};window.PLOTLYENV.BASE_URL=\"https://plot.ly\";Plotly.newPlot(\"7fad9f2e-c70c-4b94-a78f-debae7aa390d\", [{\"marker\": {\"color\": [\"#78C850\", \"#F08030\", \"#6890F0\", \"#A8B820\", \"#A8A878\", \"#A040A0\", \"#F8D030\", \"#E0C068\", \"#EE99AC\", \"#C03028\", \"#F85888\", \"#B8A038\", \"#705898\", \"#98D8D8\", \"#7038F8\", \"#705848\", \"#B8B8D0\", \"#A890F0\", \"#353535\"]}, \"x\": [\"Grass\", \"Fire\", \"Water\", \"Bug\", \"Normal\", \"Poison\", \"Electric\", \"Ground\", \"Fairy\", \"Fighting\", \"Psychic\", \"Rock\", \"Ghost\", \"Ice\", \"Dragon\", \"Dark\", \"Steel\", \"Flying\"], \"y\": [95, 64, 126, 72, 102, 62, 50, 67, 40, 53, 90, 58, 46, 38, 50, 51, 49, 101], \"type\": \"bar\", \"uid\": \"d22026cf-1e1c-4805-b105-552c8c94f675\"}], {\"height\": 650, \"margin\": {\"pad\": 5}, \"title\": {\"text\": \"<b>Total Number of Pokemon Based on Type</b>\"}}, {\"showLink\": false, \"linkText\": \"Export to plot.ly\", \"plotlyServerURL\": \"https://plot.ly\"})});</script><script type=\"text/javascript\">window.addEventListener(\"resize\", function(){window._Plotly.Plots.resize(document.getElementById(\"7fad9f2e-c70c-4b94-a78f-debae7aa390d\"));});</script>"
      ],
      "text/vnd.plotly.v1+html": [
       "<div id=\"7fad9f2e-c70c-4b94-a78f-debae7aa390d\" style=\"height: 650px; width: 100%;\" class=\"plotly-graph-div\"></div><script type=\"text/javascript\">require([\"plotly\"], function(Plotly) { window.PLOTLYENV=window.PLOTLYENV || {};window.PLOTLYENV.BASE_URL=\"https://plot.ly\";Plotly.newPlot(\"7fad9f2e-c70c-4b94-a78f-debae7aa390d\", [{\"marker\": {\"color\": [\"#78C850\", \"#F08030\", \"#6890F0\", \"#A8B820\", \"#A8A878\", \"#A040A0\", \"#F8D030\", \"#E0C068\", \"#EE99AC\", \"#C03028\", \"#F85888\", \"#B8A038\", \"#705898\", \"#98D8D8\", \"#7038F8\", \"#705848\", \"#B8B8D0\", \"#A890F0\", \"#353535\"]}, \"x\": [\"Grass\", \"Fire\", \"Water\", \"Bug\", \"Normal\", \"Poison\", \"Electric\", \"Ground\", \"Fairy\", \"Fighting\", \"Psychic\", \"Rock\", \"Ghost\", \"Ice\", \"Dragon\", \"Dark\", \"Steel\", \"Flying\"], \"y\": [95, 64, 126, 72, 102, 62, 50, 67, 40, 53, 90, 58, 46, 38, 50, 51, 49, 101], \"type\": \"bar\", \"uid\": \"d22026cf-1e1c-4805-b105-552c8c94f675\"}], {\"height\": 650, \"margin\": {\"pad\": 5}, \"title\": {\"text\": \"<b>Total Number of Pokemon Based on Type</b>\"}}, {\"showLink\": false, \"linkText\": \"Export to plot.ly\", \"plotlyServerURL\": \"https://plot.ly\"})});</script><script type=\"text/javascript\">window.addEventListener(\"resize\", function(){window._Plotly.Plots.resize(document.getElementById(\"7fad9f2e-c70c-4b94-a78f-debae7aa390d\"));});</script>"
      ]
     },
     "metadata": {},
     "output_type": "display_data"
    }
   ],
   "source": [
    "# Make a bar chart\n",
    "trace_bar = go.Bar(x = types,\n",
    "                   y = types_count,                   \n",
    "                   marker=dict(color=colors)\n",
    "                  )\n",
    "\n",
    "layout = go.Layout(title='<b>Total Number of Pokemon Based on Type</b>',\n",
    "                   height=650,\n",
    "                   margin=go.layout.Margin(                   \n",
    "                   pad=5)\n",
    "                  )\n",
    "\n",
    "data = [trace_bar]\n",
    "fig = go.Figure(data=data, layout=layout)\n",
    "iplot(fig)"
   ]
  },
  {
   "cell_type": "code",
   "execution_count": 7,
   "metadata": {
    "_kg_hide-input": true,
    "_uuid": "8b4a6e3404e73a4a7336016e02d20c359ec6d9fc"
   },
   "outputs": [],
   "source": [
    "# Now lets we set for each generation\n",
    "\n",
    "types_count = []\n",
    "types_count_1 = []\n",
    "types_count_2 = []\n",
    "types_count_3 = []\n",
    "types_count_4 = []\n",
    "types_count_5 = []\n",
    "types_count_6 = []\n",
    "\n",
    "for t in types:\n",
    "    criteria_1 = df['Type 1'] == t\n",
    "    criteria_2 = df['Type 2'] == t\n",
    "    criteria_all = criteria_1 | criteria_2\n",
    "    \n",
    "    types_count.append(len(df[criteria_all]))\n",
    "    types_count_1.append(len(df[criteria_all & (df['Generation'] == 1)]))\n",
    "    types_count_2.append(len(df[criteria_all & (df['Generation'] == 2)]))\n",
    "    types_count_3.append(len(df[criteria_all & (df['Generation'] == 3)]))\n",
    "    types_count_4.append(len(df[criteria_all & (df['Generation'] == 4)]))\n",
    "    types_count_5.append(len(df[criteria_all & (df['Generation'] == 5)]))\n",
    "    types_count_6.append(len(df[criteria_all & (df['Generation'] == 6)]))  "
   ]
  },
  {
   "cell_type": "code",
   "execution_count": 8,
   "metadata": {
    "_kg_hide-input": true,
    "_uuid": "3717f1df9c0806f246e6357b630efbeba6dbadd3"
   },
   "outputs": [
    {
     "data": {
      "application/vnd.plotly.v1+json": {
       "config": {
        "linkText": "Export to plot.ly",
        "plotlyServerURL": "https://plot.ly",
        "showLink": false
       },
       "data": [
        {
         "marker": {
          "color": [
           "#78C850",
           "#F08030",
           "#6890F0",
           "#A8B820",
           "#A8A878",
           "#A040A0",
           "#F8D030",
           "#E0C068",
           "#EE99AC",
           "#C03028",
           "#F85888",
           "#B8A038",
           "#705898",
           "#98D8D8",
           "#7038F8",
           "#705848",
           "#B8B8D0",
           "#A890F0",
           "#353535"
          ]
         },
         "type": "bar",
         "uid": "2c13f43c-c963-4c6b-a778-ae37131bab49",
         "x": [
          "Grass",
          "Fire",
          "Water",
          "Bug",
          "Normal",
          "Poison",
          "Electric",
          "Ground",
          "Fairy",
          "Fighting",
          "Psychic",
          "Rock",
          "Ghost",
          "Ice",
          "Dragon",
          "Dark",
          "Steel",
          "Flying"
         ],
         "xaxis": "x",
         "y": [
          15,
          14,
          35,
          14,
          24,
          36,
          9,
          14,
          5,
          9,
          18,
          12,
          4,
          5,
          4,
          1,
          2,
          23
         ],
         "yaxis": "y"
        },
        {
         "marker": {
          "color": [
           "#78C850",
           "#F08030",
           "#6890F0",
           "#A8B820",
           "#A8A878",
           "#A040A0",
           "#F8D030",
           "#E0C068",
           "#EE99AC",
           "#C03028",
           "#F85888",
           "#B8A038",
           "#705898",
           "#98D8D8",
           "#7038F8",
           "#705848",
           "#B8B8D0",
           "#A890F0",
           "#353535"
          ]
         },
         "type": "bar",
         "uid": "2abb6c1d-c61f-4c21-a08f-18764701737c",
         "x": [
          "Grass",
          "Fire",
          "Water",
          "Bug",
          "Normal",
          "Poison",
          "Electric",
          "Ground",
          "Fairy",
          "Fighting",
          "Psychic",
          "Rock",
          "Ghost",
          "Ice",
          "Dragon",
          "Dark",
          "Steel",
          "Flying"
         ],
         "xaxis": "x2",
         "y": [
          10,
          11,
          18,
          12,
          15,
          4,
          9,
          11,
          8,
          4,
          10,
          8,
          1,
          5,
          2,
          8,
          6,
          19
         ],
         "yaxis": "y2"
        },
        {
         "marker": {
          "color": [
           "#78C850",
           "#F08030",
           "#6890F0",
           "#A8B820",
           "#A8A878",
           "#A040A0",
           "#F8D030",
           "#E0C068",
           "#EE99AC",
           "#C03028",
           "#F85888",
           "#B8A038",
           "#705898",
           "#98D8D8",
           "#7038F8",
           "#705848",
           "#B8B8D0",
           "#A890F0",
           "#353535"
          ]
         },
         "type": "bar",
         "uid": "29e8f956-be4c-4cab-ab48-09c1673ec665",
         "x": [
          "Grass",
          "Fire",
          "Water",
          "Bug",
          "Normal",
          "Poison",
          "Electric",
          "Ground",
          "Fairy",
          "Fighting",
          "Psychic",
          "Rock",
          "Ghost",
          "Ice",
          "Dragon",
          "Dark",
          "Steel",
          "Flying"
         ],
         "xaxis": "x3",
         "y": [
          18,
          9,
          31,
          14,
          18,
          5,
          5,
          16,
          8,
          9,
          28,
          12,
          8,
          7,
          15,
          13,
          12,
          14
         ],
         "yaxis": "y3"
        },
        {
         "marker": {
          "color": [
           "#78C850",
           "#F08030",
           "#6890F0",
           "#A8B820",
           "#A8A878",
           "#A040A0",
           "#F8D030",
           "#E0C068",
           "#EE99AC",
           "#C03028",
           "#F85888",
           "#B8A038",
           "#705898",
           "#98D8D8",
           "#7038F8",
           "#705848",
           "#B8B8D0",
           "#A890F0",
           "#353535"
          ]
         },
         "type": "bar",
         "uid": "a0e78206-7fcd-4396-8d09-df6ed98fd4a9",
         "x": [
          "Grass",
          "Fire",
          "Water",
          "Bug",
          "Normal",
          "Poison",
          "Electric",
          "Ground",
          "Fairy",
          "Fighting",
          "Psychic",
          "Rock",
          "Ghost",
          "Ice",
          "Dragon",
          "Dark",
          "Steel",
          "Flying"
         ],
         "xaxis": "x4",
         "y": [
          17,
          6,
          15,
          11,
          18,
          8,
          12,
          12,
          2,
          10,
          10,
          7,
          9,
          8,
          8,
          7,
          12,
          16
         ],
         "yaxis": "y4"
        },
        {
         "marker": {
          "color": [
           "#78C850",
           "#F08030",
           "#6890F0",
           "#A8B820",
           "#A8A878",
           "#A040A0",
           "#F8D030",
           "#E0C068",
           "#EE99AC",
           "#C03028",
           "#F85888",
           "#B8A038",
           "#705898",
           "#98D8D8",
           "#7038F8",
           "#705848",
           "#B8B8D0",
           "#A890F0",
           "#353535"
          ]
         },
         "type": "bar",
         "uid": "bb519a2a-9212-476b-88c1-55831a10fb6b",
         "x": [
          "Grass",
          "Fire",
          "Water",
          "Bug",
          "Normal",
          "Poison",
          "Electric",
          "Ground",
          "Fairy",
          "Fighting",
          "Psychic",
          "Rock",
          "Ghost",
          "Ice",
          "Dragon",
          "Dark",
          "Steel",
          "Flying"
         ],
         "xaxis": "x5",
         "y": [
          20,
          16,
          18,
          18,
          19,
          7,
          12,
          12,
          3,
          17,
          16,
          10,
          9,
          9,
          12,
          16,
          12,
          21
         ],
         "yaxis": "y5"
        },
        {
         "marker": {
          "color": [
           "#78C850",
           "#F08030",
           "#6890F0",
           "#A8B820",
           "#A8A878",
           "#A040A0",
           "#F8D030",
           "#E0C068",
           "#EE99AC",
           "#C03028",
           "#F85888",
           "#B8A038",
           "#705898",
           "#98D8D8",
           "#7038F8",
           "#705848",
           "#B8B8D0",
           "#A890F0",
           "#353535"
          ]
         },
         "type": "bar",
         "uid": "59e956f2-bcab-42d0-9fd3-2b05d78a583e",
         "x": [
          "Grass",
          "Fire",
          "Water",
          "Bug",
          "Normal",
          "Poison",
          "Electric",
          "Ground",
          "Fairy",
          "Fighting",
          "Psychic",
          "Rock",
          "Ghost",
          "Ice",
          "Dragon",
          "Dark",
          "Steel",
          "Flying"
         ],
         "xaxis": "x6",
         "y": [
          15,
          8,
          9,
          3,
          8,
          2,
          3,
          2,
          14,
          4,
          8,
          9,
          15,
          4,
          9,
          6,
          5,
          8
         ],
         "yaxis": "y6"
        }
       ],
       "layout": {
        "annotations": [
         {
          "font": {
           "size": 16
          },
          "showarrow": false,
          "text": "Generation 1",
          "x": 0.225,
          "xanchor": "center",
          "xref": "paper",
          "y": 1,
          "yanchor": "bottom",
          "yref": "paper"
         },
         {
          "font": {
           "size": 16
          },
          "showarrow": false,
          "text": "Generation 2",
          "x": 0.775,
          "xanchor": "center",
          "xref": "paper",
          "y": 1,
          "yanchor": "bottom",
          "yref": "paper"
         },
         {
          "font": {
           "size": 16
          },
          "showarrow": false,
          "text": "Generation 3",
          "x": 0.225,
          "xanchor": "center",
          "xref": "paper",
          "y": 0.5933333333333334,
          "yanchor": "bottom",
          "yref": "paper"
         },
         {
          "font": {
           "size": 16
          },
          "showarrow": false,
          "text": "Generation 4",
          "x": 0.775,
          "xanchor": "center",
          "xref": "paper",
          "y": 0.5933333333333334,
          "yanchor": "bottom",
          "yref": "paper"
         },
         {
          "font": {
           "size": 16
          },
          "showarrow": false,
          "text": "Generation 5",
          "x": 0.225,
          "xanchor": "center",
          "xref": "paper",
          "y": 0.18666666666666668,
          "yanchor": "bottom",
          "yref": "paper"
         },
         {
          "font": {
           "size": 16
          },
          "showarrow": false,
          "text": "Generation 6",
          "x": 0.775,
          "xanchor": "center",
          "xref": "paper",
          "y": 0.18666666666666668,
          "yanchor": "bottom",
          "yref": "paper"
         }
        ],
        "height": 670,
        "margin": {
         "pad": 5
        },
        "showlegend": false,
        "title": {
         "text": "<b>Number of Pokemon for Each Generation</b>"
        },
        "xaxis": {
         "anchor": "y",
         "domain": [
          0,
          0.45
         ]
        },
        "xaxis2": {
         "anchor": "y2",
         "domain": [
          0.55,
          1
         ]
        },
        "xaxis3": {
         "anchor": "y3",
         "domain": [
          0,
          0.45
         ]
        },
        "xaxis4": {
         "anchor": "y4",
         "domain": [
          0.55,
          1
         ]
        },
        "xaxis5": {
         "anchor": "y5",
         "domain": [
          0,
          0.45
         ]
        },
        "xaxis6": {
         "anchor": "y6",
         "domain": [
          0.55,
          1
         ]
        },
        "yaxis": {
         "anchor": "x",
         "domain": [
          0.8133333333333334,
          1
         ]
        },
        "yaxis2": {
         "anchor": "x2",
         "domain": [
          0.8133333333333334,
          1
         ]
        },
        "yaxis3": {
         "anchor": "x3",
         "domain": [
          0.4066666666666667,
          0.5933333333333334
         ]
        },
        "yaxis4": {
         "anchor": "x4",
         "domain": [
          0.4066666666666667,
          0.5933333333333334
         ]
        },
        "yaxis5": {
         "anchor": "x5",
         "domain": [
          0,
          0.18666666666666668
         ]
        },
        "yaxis6": {
         "anchor": "x6",
         "domain": [
          0,
          0.18666666666666668
         ]
        }
       }
      },
      "text/html": [
       "<div id=\"1904787e-7d6d-49ae-9bdd-d19d7f68e6e6\" style=\"height: 670px; width: 100%;\" class=\"plotly-graph-div\"></div><script type=\"text/javascript\">require([\"plotly\"], function(Plotly) { window.PLOTLYENV=window.PLOTLYENV || {};window.PLOTLYENV.BASE_URL=\"https://plot.ly\";Plotly.newPlot(\"1904787e-7d6d-49ae-9bdd-d19d7f68e6e6\", [{\"marker\": {\"color\": [\"#78C850\", \"#F08030\", \"#6890F0\", \"#A8B820\", \"#A8A878\", \"#A040A0\", \"#F8D030\", \"#E0C068\", \"#EE99AC\", \"#C03028\", \"#F85888\", \"#B8A038\", \"#705898\", \"#98D8D8\", \"#7038F8\", \"#705848\", \"#B8B8D0\", \"#A890F0\", \"#353535\"]}, \"x\": [\"Grass\", \"Fire\", \"Water\", \"Bug\", \"Normal\", \"Poison\", \"Electric\", \"Ground\", \"Fairy\", \"Fighting\", \"Psychic\", \"Rock\", \"Ghost\", \"Ice\", \"Dragon\", \"Dark\", \"Steel\", \"Flying\"], \"y\": [15, 14, 35, 14, 24, 36, 9, 14, 5, 9, 18, 12, 4, 5, 4, 1, 2, 23], \"type\": \"bar\", \"uid\": \"2c13f43c-c963-4c6b-a778-ae37131bab49\", \"xaxis\": \"x\", \"yaxis\": \"y\"}, {\"marker\": {\"color\": [\"#78C850\", \"#F08030\", \"#6890F0\", \"#A8B820\", \"#A8A878\", \"#A040A0\", \"#F8D030\", \"#E0C068\", \"#EE99AC\", \"#C03028\", \"#F85888\", \"#B8A038\", \"#705898\", \"#98D8D8\", \"#7038F8\", \"#705848\", \"#B8B8D0\", \"#A890F0\", \"#353535\"]}, \"x\": [\"Grass\", \"Fire\", \"Water\", \"Bug\", \"Normal\", \"Poison\", \"Electric\", \"Ground\", \"Fairy\", \"Fighting\", \"Psychic\", \"Rock\", \"Ghost\", \"Ice\", \"Dragon\", \"Dark\", \"Steel\", \"Flying\"], \"y\": [10, 11, 18, 12, 15, 4, 9, 11, 8, 4, 10, 8, 1, 5, 2, 8, 6, 19], \"type\": \"bar\", \"uid\": \"2abb6c1d-c61f-4c21-a08f-18764701737c\", \"xaxis\": \"x2\", \"yaxis\": \"y2\"}, {\"marker\": {\"color\": [\"#78C850\", \"#F08030\", \"#6890F0\", \"#A8B820\", \"#A8A878\", \"#A040A0\", \"#F8D030\", \"#E0C068\", \"#EE99AC\", \"#C03028\", \"#F85888\", \"#B8A038\", \"#705898\", \"#98D8D8\", \"#7038F8\", \"#705848\", \"#B8B8D0\", \"#A890F0\", \"#353535\"]}, \"x\": [\"Grass\", \"Fire\", \"Water\", \"Bug\", \"Normal\", \"Poison\", \"Electric\", \"Ground\", \"Fairy\", \"Fighting\", \"Psychic\", \"Rock\", \"Ghost\", \"Ice\", \"Dragon\", \"Dark\", \"Steel\", \"Flying\"], \"y\": [18, 9, 31, 14, 18, 5, 5, 16, 8, 9, 28, 12, 8, 7, 15, 13, 12, 14], \"type\": \"bar\", \"uid\": \"29e8f956-be4c-4cab-ab48-09c1673ec665\", \"xaxis\": \"x3\", \"yaxis\": \"y3\"}, {\"marker\": {\"color\": [\"#78C850\", \"#F08030\", \"#6890F0\", \"#A8B820\", \"#A8A878\", \"#A040A0\", \"#F8D030\", \"#E0C068\", \"#EE99AC\", \"#C03028\", \"#F85888\", \"#B8A038\", \"#705898\", \"#98D8D8\", \"#7038F8\", \"#705848\", \"#B8B8D0\", \"#A890F0\", \"#353535\"]}, \"x\": [\"Grass\", \"Fire\", \"Water\", \"Bug\", \"Normal\", \"Poison\", \"Electric\", \"Ground\", \"Fairy\", \"Fighting\", \"Psychic\", \"Rock\", \"Ghost\", \"Ice\", \"Dragon\", \"Dark\", \"Steel\", \"Flying\"], \"y\": [17, 6, 15, 11, 18, 8, 12, 12, 2, 10, 10, 7, 9, 8, 8, 7, 12, 16], \"type\": \"bar\", \"uid\": \"a0e78206-7fcd-4396-8d09-df6ed98fd4a9\", \"xaxis\": \"x4\", \"yaxis\": \"y4\"}, {\"marker\": {\"color\": [\"#78C850\", \"#F08030\", \"#6890F0\", \"#A8B820\", \"#A8A878\", \"#A040A0\", \"#F8D030\", \"#E0C068\", \"#EE99AC\", \"#C03028\", \"#F85888\", \"#B8A038\", \"#705898\", \"#98D8D8\", \"#7038F8\", \"#705848\", \"#B8B8D0\", \"#A890F0\", \"#353535\"]}, \"x\": [\"Grass\", \"Fire\", \"Water\", \"Bug\", \"Normal\", \"Poison\", \"Electric\", \"Ground\", \"Fairy\", \"Fighting\", \"Psychic\", \"Rock\", \"Ghost\", \"Ice\", \"Dragon\", \"Dark\", \"Steel\", \"Flying\"], \"y\": [20, 16, 18, 18, 19, 7, 12, 12, 3, 17, 16, 10, 9, 9, 12, 16, 12, 21], \"type\": \"bar\", \"uid\": \"bb519a2a-9212-476b-88c1-55831a10fb6b\", \"xaxis\": \"x5\", \"yaxis\": \"y5\"}, {\"marker\": {\"color\": [\"#78C850\", \"#F08030\", \"#6890F0\", \"#A8B820\", \"#A8A878\", \"#A040A0\", \"#F8D030\", \"#E0C068\", \"#EE99AC\", \"#C03028\", \"#F85888\", \"#B8A038\", \"#705898\", \"#98D8D8\", \"#7038F8\", \"#705848\", \"#B8B8D0\", \"#A890F0\", \"#353535\"]}, \"x\": [\"Grass\", \"Fire\", \"Water\", \"Bug\", \"Normal\", \"Poison\", \"Electric\", \"Ground\", \"Fairy\", \"Fighting\", \"Psychic\", \"Rock\", \"Ghost\", \"Ice\", \"Dragon\", \"Dark\", \"Steel\", \"Flying\"], \"y\": [15, 8, 9, 3, 8, 2, 3, 2, 14, 4, 8, 9, 15, 4, 9, 6, 5, 8], \"type\": \"bar\", \"uid\": \"59e956f2-bcab-42d0-9fd3-2b05d78a583e\", \"xaxis\": \"x6\", \"yaxis\": \"y6\"}], {\"annotations\": [{\"font\": {\"size\": 16}, \"showarrow\": false, \"text\": \"Generation 1\", \"x\": 0.225, \"xanchor\": \"center\", \"xref\": \"paper\", \"y\": 1.0, \"yanchor\": \"bottom\", \"yref\": \"paper\"}, {\"font\": {\"size\": 16}, \"showarrow\": false, \"text\": \"Generation 2\", \"x\": 0.775, \"xanchor\": \"center\", \"xref\": \"paper\", \"y\": 1.0, \"yanchor\": \"bottom\", \"yref\": \"paper\"}, {\"font\": {\"size\": 16}, \"showarrow\": false, \"text\": \"Generation 3\", \"x\": 0.225, \"xanchor\": \"center\", \"xref\": \"paper\", \"y\": 0.5933333333333334, \"yanchor\": \"bottom\", \"yref\": \"paper\"}, {\"font\": {\"size\": 16}, \"showarrow\": false, \"text\": \"Generation 4\", \"x\": 0.775, \"xanchor\": \"center\", \"xref\": \"paper\", \"y\": 0.5933333333333334, \"yanchor\": \"bottom\", \"yref\": \"paper\"}, {\"font\": {\"size\": 16}, \"showarrow\": false, \"text\": \"Generation 5\", \"x\": 0.225, \"xanchor\": \"center\", \"xref\": \"paper\", \"y\": 0.18666666666666668, \"yanchor\": \"bottom\", \"yref\": \"paper\"}, {\"font\": {\"size\": 16}, \"showarrow\": false, \"text\": \"Generation 6\", \"x\": 0.775, \"xanchor\": \"center\", \"xref\": \"paper\", \"y\": 0.18666666666666668, \"yanchor\": \"bottom\", \"yref\": \"paper\"}], \"xaxis\": {\"anchor\": \"y\", \"domain\": [0.0, 0.45]}, \"yaxis\": {\"anchor\": \"x\", \"domain\": [0.8133333333333334, 1.0]}, \"xaxis2\": {\"anchor\": \"y2\", \"domain\": [0.55, 1.0]}, \"yaxis2\": {\"anchor\": \"x2\", \"domain\": [0.8133333333333334, 1.0]}, \"xaxis3\": {\"anchor\": \"y3\", \"domain\": [0.0, 0.45]}, \"yaxis3\": {\"anchor\": \"x3\", \"domain\": [0.4066666666666667, 0.5933333333333334]}, \"xaxis4\": {\"anchor\": \"y4\", \"domain\": [0.55, 1.0]}, \"yaxis4\": {\"anchor\": \"x4\", \"domain\": [0.4066666666666667, 0.5933333333333334]}, \"xaxis5\": {\"anchor\": \"y5\", \"domain\": [0.0, 0.45]}, \"yaxis5\": {\"anchor\": \"x5\", \"domain\": [0.0, 0.18666666666666668]}, \"xaxis6\": {\"anchor\": \"y6\", \"domain\": [0.55, 1.0]}, \"yaxis6\": {\"anchor\": \"x6\", \"domain\": [0.0, 0.18666666666666668]}, \"title\": {\"text\": \"<b>Number of Pokemon for Each Generation</b>\"}, \"height\": 670, \"margin\": {\"pad\": 5}, \"showlegend\": false}, {\"showLink\": false, \"linkText\": \"Export to plot.ly\", \"plotlyServerURL\": \"https://plot.ly\"})});</script><script type=\"text/javascript\">window.addEventListener(\"resize\", function(){window._Plotly.Plots.resize(document.getElementById(\"1904787e-7d6d-49ae-9bdd-d19d7f68e6e6\"));});</script>"
      ],
      "text/vnd.plotly.v1+html": [
       "<div id=\"1904787e-7d6d-49ae-9bdd-d19d7f68e6e6\" style=\"height: 670px; width: 100%;\" class=\"plotly-graph-div\"></div><script type=\"text/javascript\">require([\"plotly\"], function(Plotly) { window.PLOTLYENV=window.PLOTLYENV || {};window.PLOTLYENV.BASE_URL=\"https://plot.ly\";Plotly.newPlot(\"1904787e-7d6d-49ae-9bdd-d19d7f68e6e6\", [{\"marker\": {\"color\": [\"#78C850\", \"#F08030\", \"#6890F0\", \"#A8B820\", \"#A8A878\", \"#A040A0\", \"#F8D030\", \"#E0C068\", \"#EE99AC\", \"#C03028\", \"#F85888\", \"#B8A038\", \"#705898\", \"#98D8D8\", \"#7038F8\", \"#705848\", \"#B8B8D0\", \"#A890F0\", \"#353535\"]}, \"x\": [\"Grass\", \"Fire\", \"Water\", \"Bug\", \"Normal\", \"Poison\", \"Electric\", \"Ground\", \"Fairy\", \"Fighting\", \"Psychic\", \"Rock\", \"Ghost\", \"Ice\", \"Dragon\", \"Dark\", \"Steel\", \"Flying\"], \"y\": [15, 14, 35, 14, 24, 36, 9, 14, 5, 9, 18, 12, 4, 5, 4, 1, 2, 23], \"type\": \"bar\", \"uid\": \"2c13f43c-c963-4c6b-a778-ae37131bab49\", \"xaxis\": \"x\", \"yaxis\": \"y\"}, {\"marker\": {\"color\": [\"#78C850\", \"#F08030\", \"#6890F0\", \"#A8B820\", \"#A8A878\", \"#A040A0\", \"#F8D030\", \"#E0C068\", \"#EE99AC\", \"#C03028\", \"#F85888\", \"#B8A038\", \"#705898\", \"#98D8D8\", \"#7038F8\", \"#705848\", \"#B8B8D0\", \"#A890F0\", \"#353535\"]}, \"x\": [\"Grass\", \"Fire\", \"Water\", \"Bug\", \"Normal\", \"Poison\", \"Electric\", \"Ground\", \"Fairy\", \"Fighting\", \"Psychic\", \"Rock\", \"Ghost\", \"Ice\", \"Dragon\", \"Dark\", \"Steel\", \"Flying\"], \"y\": [10, 11, 18, 12, 15, 4, 9, 11, 8, 4, 10, 8, 1, 5, 2, 8, 6, 19], \"type\": \"bar\", \"uid\": \"2abb6c1d-c61f-4c21-a08f-18764701737c\", \"xaxis\": \"x2\", \"yaxis\": \"y2\"}, {\"marker\": {\"color\": [\"#78C850\", \"#F08030\", \"#6890F0\", \"#A8B820\", \"#A8A878\", \"#A040A0\", \"#F8D030\", \"#E0C068\", \"#EE99AC\", \"#C03028\", \"#F85888\", \"#B8A038\", \"#705898\", \"#98D8D8\", \"#7038F8\", \"#705848\", \"#B8B8D0\", \"#A890F0\", \"#353535\"]}, \"x\": [\"Grass\", \"Fire\", \"Water\", \"Bug\", \"Normal\", \"Poison\", \"Electric\", \"Ground\", \"Fairy\", \"Fighting\", \"Psychic\", \"Rock\", \"Ghost\", \"Ice\", \"Dragon\", \"Dark\", \"Steel\", \"Flying\"], \"y\": [18, 9, 31, 14, 18, 5, 5, 16, 8, 9, 28, 12, 8, 7, 15, 13, 12, 14], \"type\": \"bar\", \"uid\": \"29e8f956-be4c-4cab-ab48-09c1673ec665\", \"xaxis\": \"x3\", \"yaxis\": \"y3\"}, {\"marker\": {\"color\": [\"#78C850\", \"#F08030\", \"#6890F0\", \"#A8B820\", \"#A8A878\", \"#A040A0\", \"#F8D030\", \"#E0C068\", \"#EE99AC\", \"#C03028\", \"#F85888\", \"#B8A038\", \"#705898\", \"#98D8D8\", \"#7038F8\", \"#705848\", \"#B8B8D0\", \"#A890F0\", \"#353535\"]}, \"x\": [\"Grass\", \"Fire\", \"Water\", \"Bug\", \"Normal\", \"Poison\", \"Electric\", \"Ground\", \"Fairy\", \"Fighting\", \"Psychic\", \"Rock\", \"Ghost\", \"Ice\", \"Dragon\", \"Dark\", \"Steel\", \"Flying\"], \"y\": [17, 6, 15, 11, 18, 8, 12, 12, 2, 10, 10, 7, 9, 8, 8, 7, 12, 16], \"type\": \"bar\", \"uid\": \"a0e78206-7fcd-4396-8d09-df6ed98fd4a9\", \"xaxis\": \"x4\", \"yaxis\": \"y4\"}, {\"marker\": {\"color\": [\"#78C850\", \"#F08030\", \"#6890F0\", \"#A8B820\", \"#A8A878\", \"#A040A0\", \"#F8D030\", \"#E0C068\", \"#EE99AC\", \"#C03028\", \"#F85888\", \"#B8A038\", \"#705898\", \"#98D8D8\", \"#7038F8\", \"#705848\", \"#B8B8D0\", \"#A890F0\", \"#353535\"]}, \"x\": [\"Grass\", \"Fire\", \"Water\", \"Bug\", \"Normal\", \"Poison\", \"Electric\", \"Ground\", \"Fairy\", \"Fighting\", \"Psychic\", \"Rock\", \"Ghost\", \"Ice\", \"Dragon\", \"Dark\", \"Steel\", \"Flying\"], \"y\": [20, 16, 18, 18, 19, 7, 12, 12, 3, 17, 16, 10, 9, 9, 12, 16, 12, 21], \"type\": \"bar\", \"uid\": \"bb519a2a-9212-476b-88c1-55831a10fb6b\", \"xaxis\": \"x5\", \"yaxis\": \"y5\"}, {\"marker\": {\"color\": [\"#78C850\", \"#F08030\", \"#6890F0\", \"#A8B820\", \"#A8A878\", \"#A040A0\", \"#F8D030\", \"#E0C068\", \"#EE99AC\", \"#C03028\", \"#F85888\", \"#B8A038\", \"#705898\", \"#98D8D8\", \"#7038F8\", \"#705848\", \"#B8B8D0\", \"#A890F0\", \"#353535\"]}, \"x\": [\"Grass\", \"Fire\", \"Water\", \"Bug\", \"Normal\", \"Poison\", \"Electric\", \"Ground\", \"Fairy\", \"Fighting\", \"Psychic\", \"Rock\", \"Ghost\", \"Ice\", \"Dragon\", \"Dark\", \"Steel\", \"Flying\"], \"y\": [15, 8, 9, 3, 8, 2, 3, 2, 14, 4, 8, 9, 15, 4, 9, 6, 5, 8], \"type\": \"bar\", \"uid\": \"59e956f2-bcab-42d0-9fd3-2b05d78a583e\", \"xaxis\": \"x6\", \"yaxis\": \"y6\"}], {\"annotations\": [{\"font\": {\"size\": 16}, \"showarrow\": false, \"text\": \"Generation 1\", \"x\": 0.225, \"xanchor\": \"center\", \"xref\": \"paper\", \"y\": 1.0, \"yanchor\": \"bottom\", \"yref\": \"paper\"}, {\"font\": {\"size\": 16}, \"showarrow\": false, \"text\": \"Generation 2\", \"x\": 0.775, \"xanchor\": \"center\", \"xref\": \"paper\", \"y\": 1.0, \"yanchor\": \"bottom\", \"yref\": \"paper\"}, {\"font\": {\"size\": 16}, \"showarrow\": false, \"text\": \"Generation 3\", \"x\": 0.225, \"xanchor\": \"center\", \"xref\": \"paper\", \"y\": 0.5933333333333334, \"yanchor\": \"bottom\", \"yref\": \"paper\"}, {\"font\": {\"size\": 16}, \"showarrow\": false, \"text\": \"Generation 4\", \"x\": 0.775, \"xanchor\": \"center\", \"xref\": \"paper\", \"y\": 0.5933333333333334, \"yanchor\": \"bottom\", \"yref\": \"paper\"}, {\"font\": {\"size\": 16}, \"showarrow\": false, \"text\": \"Generation 5\", \"x\": 0.225, \"xanchor\": \"center\", \"xref\": \"paper\", \"y\": 0.18666666666666668, \"yanchor\": \"bottom\", \"yref\": \"paper\"}, {\"font\": {\"size\": 16}, \"showarrow\": false, \"text\": \"Generation 6\", \"x\": 0.775, \"xanchor\": \"center\", \"xref\": \"paper\", \"y\": 0.18666666666666668, \"yanchor\": \"bottom\", \"yref\": \"paper\"}], \"xaxis\": {\"anchor\": \"y\", \"domain\": [0.0, 0.45]}, \"yaxis\": {\"anchor\": \"x\", \"domain\": [0.8133333333333334, 1.0]}, \"xaxis2\": {\"anchor\": \"y2\", \"domain\": [0.55, 1.0]}, \"yaxis2\": {\"anchor\": \"x2\", \"domain\": [0.8133333333333334, 1.0]}, \"xaxis3\": {\"anchor\": \"y3\", \"domain\": [0.0, 0.45]}, \"yaxis3\": {\"anchor\": \"x3\", \"domain\": [0.4066666666666667, 0.5933333333333334]}, \"xaxis4\": {\"anchor\": \"y4\", \"domain\": [0.55, 1.0]}, \"yaxis4\": {\"anchor\": \"x4\", \"domain\": [0.4066666666666667, 0.5933333333333334]}, \"xaxis5\": {\"anchor\": \"y5\", \"domain\": [0.0, 0.45]}, \"yaxis5\": {\"anchor\": \"x5\", \"domain\": [0.0, 0.18666666666666668]}, \"xaxis6\": {\"anchor\": \"y6\", \"domain\": [0.55, 1.0]}, \"yaxis6\": {\"anchor\": \"x6\", \"domain\": [0.0, 0.18666666666666668]}, \"title\": {\"text\": \"<b>Number of Pokemon for Each Generation</b>\"}, \"height\": 670, \"margin\": {\"pad\": 5}, \"showlegend\": false}, {\"showLink\": false, \"linkText\": \"Export to plot.ly\", \"plotlyServerURL\": \"https://plot.ly\"})});</script><script type=\"text/javascript\">window.addEventListener(\"resize\", function(){window._Plotly.Plots.resize(document.getElementById(\"1904787e-7d6d-49ae-9bdd-d19d7f68e6e6\"));});</script>"
      ]
     },
     "metadata": {},
     "output_type": "display_data"
    }
   ],
   "source": [
    "trace_1 = go.Bar(x = types,\n",
    "                 y = types_count_1,\n",
    "                 marker=dict(color=colors))\n",
    "\n",
    "trace_2 = go.Bar(x = types,\n",
    "                 y = types_count_2,\n",
    "                 marker=dict(color=colors))\n",
    "\n",
    "trace_3 = go.Bar(x = types,\n",
    "                 y = types_count_3,\n",
    "                 marker=dict(color=colors))\n",
    "\n",
    "trace_4 = go.Bar(x = types,\n",
    "                 y = types_count_4,\n",
    "                 marker=dict(color=colors))\n",
    "\n",
    "trace_5 = go.Bar(x = types,\n",
    "                 y = types_count_5,\n",
    "                 marker=dict(color=colors))\n",
    "\n",
    "trace_6 = go.Bar(x = types,\n",
    "                 y = types_count_6,\n",
    "                 marker=dict(color=colors))\n",
    "\n",
    "# data = [trace_1, trace_2, trace_3, trace_4, trace_5, trace_6]\n",
    "\n",
    "\n",
    "fig = tools.make_subplots(rows=3, cols=2, subplot_titles=('Generation 1', 'Generation 2',\n",
    "                                                          'Generation 3', 'Generation 4',\n",
    "                                                          'Generation 5', 'Generation 6'),\n",
    "                          horizontal_spacing = 0.1,\n",
    "                          vertical_spacing = 0.22,\n",
    "                          print_grid=False\n",
    "                         )\n",
    "\n",
    "\n",
    "fig.append_trace(trace_1, 1, 1)\n",
    "fig.append_trace(trace_2, 1, 2)\n",
    "fig.append_trace(trace_3, 2, 1)\n",
    "fig.append_trace(trace_4, 2, 2)\n",
    "fig.append_trace(trace_5, 3, 1)\n",
    "fig.append_trace(trace_6, 3, 2)\n",
    "\n",
    "fig['layout'].update(title='<b>Number of Pokemon for Each Generation</b>',\n",
    "                   height=670,\n",
    "                   margin=go.layout.Margin(pad=5),\n",
    "                   showlegend=False,\n",
    "                   \n",
    "                    )\n",
    "\n",
    "iplot(fig)"
   ]
  },
  {
   "cell_type": "code",
   "execution_count": 9,
   "metadata": {
    "_kg_hide-input": true,
    "_uuid": "95d3ccee89f336e3237c2ad2bf61af2d562b5cef"
   },
   "outputs": [
    {
     "data": {
      "application/vnd.plotly.v1+json": {
       "config": {
        "linkText": "Export to plot.ly",
        "plotlyServerURL": "https://plot.ly",
        "showLink": false
       },
       "data": [
        {
         "labels": [
          "Single Type",
          "Double Type"
         ],
         "marker": {
          "colors": [
           "#DB0415",
           "#2424FF"
          ]
         },
         "textfont": {
          "color": "#FFFFFF",
          "size": 19
         },
         "type": "pie",
         "uid": "4aca5e0a-63af-468c-9e95-51adf6300ca2",
         "values": [
          414,
          386
         ]
        }
       ],
       "layout": {
        "title": {
         "text": "<b>Single Type vs Double Type</b>"
        }
       }
      },
      "text/html": [
       "<div id=\"721bbcac-3ad1-4a09-9230-59de0542c2e9\" style=\"height: 525px; width: 100%;\" class=\"plotly-graph-div\"></div><script type=\"text/javascript\">require([\"plotly\"], function(Plotly) { window.PLOTLYENV=window.PLOTLYENV || {};window.PLOTLYENV.BASE_URL=\"https://plot.ly\";Plotly.newPlot(\"721bbcac-3ad1-4a09-9230-59de0542c2e9\", [{\"labels\": [\"Single Type\", \"Double Type\"], \"marker\": {\"colors\": [\"#DB0415\", \"#2424FF\"]}, \"textfont\": {\"color\": \"#FFFFFF\", \"size\": 19}, \"values\": [414, 386], \"type\": \"pie\", \"uid\": \"4aca5e0a-63af-468c-9e95-51adf6300ca2\"}], {\"title\": {\"text\": \"<b>Single Type vs Double Type</b>\"}}, {\"showLink\": false, \"linkText\": \"Export to plot.ly\", \"plotlyServerURL\": \"https://plot.ly\"})});</script><script type=\"text/javascript\">window.addEventListener(\"resize\", function(){window._Plotly.Plots.resize(document.getElementById(\"721bbcac-3ad1-4a09-9230-59de0542c2e9\"));});</script>"
      ],
      "text/vnd.plotly.v1+html": [
       "<div id=\"721bbcac-3ad1-4a09-9230-59de0542c2e9\" style=\"height: 525px; width: 100%;\" class=\"plotly-graph-div\"></div><script type=\"text/javascript\">require([\"plotly\"], function(Plotly) { window.PLOTLYENV=window.PLOTLYENV || {};window.PLOTLYENV.BASE_URL=\"https://plot.ly\";Plotly.newPlot(\"721bbcac-3ad1-4a09-9230-59de0542c2e9\", [{\"labels\": [\"Single Type\", \"Double Type\"], \"marker\": {\"colors\": [\"#DB0415\", \"#2424FF\"]}, \"textfont\": {\"color\": \"#FFFFFF\", \"size\": 19}, \"values\": [414, 386], \"type\": \"pie\", \"uid\": \"4aca5e0a-63af-468c-9e95-51adf6300ca2\"}], {\"title\": {\"text\": \"<b>Single Type vs Double Type</b>\"}}, {\"showLink\": false, \"linkText\": \"Export to plot.ly\", \"plotlyServerURL\": \"https://plot.ly\"})});</script><script type=\"text/javascript\">window.addEventListener(\"resize\", function(){window._Plotly.Plots.resize(document.getElementById(\"721bbcac-3ad1-4a09-9230-59de0542c2e9\"));});</script>"
      ]
     },
     "metadata": {},
     "output_type": "display_data"
    }
   ],
   "source": [
    "# Make bar chart to compare between pokes who have 2 type and who don't\n",
    "labels = ['Single Type', 'Double Type']\n",
    "notype2 = [len(df[df['Type 2'] != '']), len(df[df['Type 2'] == '']) ]\n",
    "\n",
    "trace = go.Pie(labels=labels,\n",
    "               values=notype2,\n",
    "               textfont=dict(size=19, color='#FFFFFF'),\n",
    "               marker=dict(\n",
    "                   colors=['#DB0415', '#2424FF'] \n",
    "               )\n",
    "              )\n",
    "\n",
    "layout = go.Layout(title = '<b>Single Type vs Double Type</b>')\n",
    "data = [trace]\n",
    "fig = go.Figure(data=data, layout=layout)\n",
    "\n",
    "iplot(fig)"
   ]
  },
  {
   "cell_type": "markdown",
   "metadata": {
    "_uuid": "5473937f6c7e63d0bc6b90540214cc5334dcb8b1"
   },
   "source": [
    "It's interesting that most of the Pokemons are single typed. Let's see the combination on each type with a heatmap."
   ]
  },
  {
   "cell_type": "code",
   "execution_count": 10,
   "metadata": {
    "_kg_hide-input": true,
    "_uuid": "ac71e2d674ffa13fe66b618a9c7aba66a17450af"
   },
   "outputs": [
    {
     "data": {
      "application/vnd.plotly.v1+json": {
       "config": {
        "linkText": "Export to plot.ly",
        "plotlyServerURL": "https://plot.ly",
        "showLink": false
       },
       "data": [
        {
         "colorscale": "Hot",
         "reversescale": true,
         "type": "heatmap",
         "uid": "1bcd252f-35e7-4ebf-bb8c-7810ce8352bc",
         "x": [
          "Grass",
          "Fire",
          "Water",
          "Bug",
          "Normal",
          "Poison",
          "Electric",
          "Ground",
          "Fairy",
          "Fighting",
          "Psychic",
          "Rock",
          "Ghost",
          "Ice",
          "Dragon",
          "Dark",
          "Steel",
          "Flying"
         ],
         "y": [
          "Grass",
          "Fire",
          "Water",
          "Bug",
          "Normal",
          "Poison",
          "Electric",
          "Ground",
          "Fairy",
          "Fighting",
          "Psychic",
          "Rock",
          "Ghost",
          "Ice",
          "Dragon",
          "Dark",
          "Steel",
          "Flying",
          ""
         ],
         "z": [
          [
           0,
           0,
           3,
           6,
           2,
           0,
           1,
           0,
           0,
           0,
           1,
           2,
           10,
           0,
           0,
           0,
           0,
           0
          ],
          [
           0,
           0,
           0,
           2,
           0,
           0,
           1,
           1,
           0,
           0,
           1,
           0,
           3,
           0,
           1,
           3,
           0,
           0
          ],
          [
           0,
           1,
           0,
           1,
           1,
           1,
           1,
           0,
           0,
           0,
           0,
           6,
           0,
           3,
           0,
           0,
           0,
           0
          ],
          [
           0,
           0,
           0,
           0,
           0,
           1,
           0,
           0,
           0,
           0,
           0,
           2,
           0,
           0,
           0,
           0,
           0,
           0
          ],
          [
           0,
           2,
           0,
           0,
           0,
           0,
           2,
           0,
           0,
           0,
           0,
           0,
           0,
           0,
           0,
           0,
           0,
           0
          ],
          [
           15,
           0,
           3,
           12,
           0,
           0,
           0,
           0,
           0,
           0,
           0,
           0,
           4,
           0,
           0,
           0,
           0,
           0
          ],
          [
           0,
           0,
           2,
           2,
           0,
           0,
           0,
           1,
           0,
           0,
           0,
           0,
           0,
           0,
           1,
           0,
           0,
           0
          ],
          [
           1,
           3,
           10,
           2,
           1,
           2,
           0,
           0,
           0,
           0,
           0,
           6,
           0,
           3,
           5,
           0,
           2,
           0
          ],
          [
           2,
           0,
           2,
           0,
           5,
           0,
           1,
           0,
           0,
           0,
           6,
           3,
           0,
           0,
           1,
           0,
           3,
           0
          ],
          [
           3,
           7,
           3,
           2,
           2,
           2,
           0,
           0,
           0,
           0,
           3,
           1,
           0,
           0,
           0,
           2,
           1,
           0
          ],
          [
           2,
           2,
           5,
           0,
           2,
           0,
           0,
           2,
           0,
           3,
           0,
           2,
           0,
           2,
           4,
           2,
           7,
           0
          ],
          [
           0,
           1,
           4,
           3,
           0,
           0,
           0,
           3,
           0,
           0,
           0,
           0,
           0,
           0,
           0,
           0,
           3,
           0
          ],
          [
           0,
           0,
           2,
           1,
           0,
           0,
           1,
           2,
           0,
           0,
           1,
           0,
           0,
           1,
           0,
           2,
           4,
           0
          ],
          [
           3,
           0,
           3,
           0,
           0,
           0,
           1,
           0,
           0,
           0,
           0,
           2,
           0,
           0,
           3,
           2,
           0,
           0
          ],
          [
           1,
           1,
           2,
           0,
           0,
           1,
           1,
           2,
           0,
           0,
           0,
           2,
           2,
           0,
           0,
           3,
           1,
           2
          ],
          [
           3,
           0,
           6,
           0,
           0,
           3,
           0,
           3,
           0,
           1,
           1,
           2,
           1,
           0,
           0,
           0,
           0,
           0
          ],
          [
           2,
           1,
           1,
           7,
           0,
           0,
           3,
           1,
           0,
           2,
           0,
           3,
           0,
           0,
           0,
           2,
           0,
           0
          ],
          [
           5,
           6,
           7,
           14,
           24,
           3,
           5,
           4,
           2,
           1,
           6,
           4,
           2,
           2,
           6,
           5,
           1,
           0
          ],
          [
           33,
           28,
           59,
           17,
           61,
           15,
           27,
           13,
           15,
           20,
           38,
           9,
           10,
           13,
           11,
           10,
           5,
           2
          ]
         ]
        }
       ],
       "layout": {
        "title": {
         "text": "<b>Type 1 - Type 2 Relation</b>"
        },
        "xaxis": {
         "title": {
          "text": "<b>Type 1</b>"
         }
        },
        "yaxis": {
         "title": {
          "text": "<b>Type 2</b>"
         }
        }
       }
      },
      "text/html": [
       "<div id=\"dd0b8075-6faf-4e22-980e-feecfcb1d451\" style=\"height: 525px; width: 100%;\" class=\"plotly-graph-div\"></div><script type=\"text/javascript\">require([\"plotly\"], function(Plotly) { window.PLOTLYENV=window.PLOTLYENV || {};window.PLOTLYENV.BASE_URL=\"https://plot.ly\";Plotly.newPlot(\"dd0b8075-6faf-4e22-980e-feecfcb1d451\", [{\"colorscale\": \"Hot\", \"reversescale\": true, \"x\": [\"Grass\", \"Fire\", \"Water\", \"Bug\", \"Normal\", \"Poison\", \"Electric\", \"Ground\", \"Fairy\", \"Fighting\", \"Psychic\", \"Rock\", \"Ghost\", \"Ice\", \"Dragon\", \"Dark\", \"Steel\", \"Flying\"], \"y\": [\"Grass\", \"Fire\", \"Water\", \"Bug\", \"Normal\", \"Poison\", \"Electric\", \"Ground\", \"Fairy\", \"Fighting\", \"Psychic\", \"Rock\", \"Ghost\", \"Ice\", \"Dragon\", \"Dark\", \"Steel\", \"Flying\", \"\"], \"z\": [[0.0, 0.0, 3.0, 6.0, 2.0, 0.0, 1.0, 0.0, 0.0, 0.0, 1.0, 2.0, 10.0, 0.0, 0.0, 0.0, 0.0, 0.0], [0.0, 0.0, 0.0, 2.0, 0.0, 0.0, 1.0, 1.0, 0.0, 0.0, 1.0, 0.0, 3.0, 0.0, 1.0, 3.0, 0.0, 0.0], [0.0, 1.0, 0.0, 1.0, 1.0, 1.0, 1.0, 0.0, 0.0, 0.0, 0.0, 6.0, 0.0, 3.0, 0.0, 0.0, 0.0, 0.0], [0.0, 0.0, 0.0, 0.0, 0.0, 1.0, 0.0, 0.0, 0.0, 0.0, 0.0, 2.0, 0.0, 0.0, 0.0, 0.0, 0.0, 0.0], [0.0, 2.0, 0.0, 0.0, 0.0, 0.0, 2.0, 0.0, 0.0, 0.0, 0.0, 0.0, 0.0, 0.0, 0.0, 0.0, 0.0, 0.0], [15.0, 0.0, 3.0, 12.0, 0.0, 0.0, 0.0, 0.0, 0.0, 0.0, 0.0, 0.0, 4.0, 0.0, 0.0, 0.0, 0.0, 0.0], [0.0, 0.0, 2.0, 2.0, 0.0, 0.0, 0.0, 1.0, 0.0, 0.0, 0.0, 0.0, 0.0, 0.0, 1.0, 0.0, 0.0, 0.0], [1.0, 3.0, 10.0, 2.0, 1.0, 2.0, 0.0, 0.0, 0.0, 0.0, 0.0, 6.0, 0.0, 3.0, 5.0, 0.0, 2.0, 0.0], [2.0, 0.0, 2.0, 0.0, 5.0, 0.0, 1.0, 0.0, 0.0, 0.0, 6.0, 3.0, 0.0, 0.0, 1.0, 0.0, 3.0, 0.0], [3.0, 7.0, 3.0, 2.0, 2.0, 2.0, 0.0, 0.0, 0.0, 0.0, 3.0, 1.0, 0.0, 0.0, 0.0, 2.0, 1.0, 0.0], [2.0, 2.0, 5.0, 0.0, 2.0, 0.0, 0.0, 2.0, 0.0, 3.0, 0.0, 2.0, 0.0, 2.0, 4.0, 2.0, 7.0, 0.0], [0.0, 1.0, 4.0, 3.0, 0.0, 0.0, 0.0, 3.0, 0.0, 0.0, 0.0, 0.0, 0.0, 0.0, 0.0, 0.0, 3.0, 0.0], [0.0, 0.0, 2.0, 1.0, 0.0, 0.0, 1.0, 2.0, 0.0, 0.0, 1.0, 0.0, 0.0, 1.0, 0.0, 2.0, 4.0, 0.0], [3.0, 0.0, 3.0, 0.0, 0.0, 0.0, 1.0, 0.0, 0.0, 0.0, 0.0, 2.0, 0.0, 0.0, 3.0, 2.0, 0.0, 0.0], [1.0, 1.0, 2.0, 0.0, 0.0, 1.0, 1.0, 2.0, 0.0, 0.0, 0.0, 2.0, 2.0, 0.0, 0.0, 3.0, 1.0, 2.0], [3.0, 0.0, 6.0, 0.0, 0.0, 3.0, 0.0, 3.0, 0.0, 1.0, 1.0, 2.0, 1.0, 0.0, 0.0, 0.0, 0.0, 0.0], [2.0, 1.0, 1.0, 7.0, 0.0, 0.0, 3.0, 1.0, 0.0, 2.0, 0.0, 3.0, 0.0, 0.0, 0.0, 2.0, 0.0, 0.0], [5.0, 6.0, 7.0, 14.0, 24.0, 3.0, 5.0, 4.0, 2.0, 1.0, 6.0, 4.0, 2.0, 2.0, 6.0, 5.0, 1.0, 0.0], [33.0, 28.0, 59.0, 17.0, 61.0, 15.0, 27.0, 13.0, 15.0, 20.0, 38.0, 9.0, 10.0, 13.0, 11.0, 10.0, 5.0, 2.0]], \"type\": \"heatmap\", \"uid\": \"1bcd252f-35e7-4ebf-bb8c-7810ce8352bc\"}], {\"title\": {\"text\": \"<b>Type 1 - Type 2 Relation</b>\"}, \"xaxis\": {\"title\": {\"text\": \"<b>Type 1</b>\"}}, \"yaxis\": {\"title\": {\"text\": \"<b>Type 2</b>\"}}}, {\"showLink\": false, \"linkText\": \"Export to plot.ly\", \"plotlyServerURL\": \"https://plot.ly\"})});</script><script type=\"text/javascript\">window.addEventListener(\"resize\", function(){window._Plotly.Plots.resize(document.getElementById(\"dd0b8075-6faf-4e22-980e-feecfcb1d451\"));});</script>"
      ],
      "text/vnd.plotly.v1+html": [
       "<div id=\"dd0b8075-6faf-4e22-980e-feecfcb1d451\" style=\"height: 525px; width: 100%;\" class=\"plotly-graph-div\"></div><script type=\"text/javascript\">require([\"plotly\"], function(Plotly) { window.PLOTLYENV=window.PLOTLYENV || {};window.PLOTLYENV.BASE_URL=\"https://plot.ly\";Plotly.newPlot(\"dd0b8075-6faf-4e22-980e-feecfcb1d451\", [{\"colorscale\": \"Hot\", \"reversescale\": true, \"x\": [\"Grass\", \"Fire\", \"Water\", \"Bug\", \"Normal\", \"Poison\", \"Electric\", \"Ground\", \"Fairy\", \"Fighting\", \"Psychic\", \"Rock\", \"Ghost\", \"Ice\", \"Dragon\", \"Dark\", \"Steel\", \"Flying\"], \"y\": [\"Grass\", \"Fire\", \"Water\", \"Bug\", \"Normal\", \"Poison\", \"Electric\", \"Ground\", \"Fairy\", \"Fighting\", \"Psychic\", \"Rock\", \"Ghost\", \"Ice\", \"Dragon\", \"Dark\", \"Steel\", \"Flying\", \"\"], \"z\": [[0.0, 0.0, 3.0, 6.0, 2.0, 0.0, 1.0, 0.0, 0.0, 0.0, 1.0, 2.0, 10.0, 0.0, 0.0, 0.0, 0.0, 0.0], [0.0, 0.0, 0.0, 2.0, 0.0, 0.0, 1.0, 1.0, 0.0, 0.0, 1.0, 0.0, 3.0, 0.0, 1.0, 3.0, 0.0, 0.0], [0.0, 1.0, 0.0, 1.0, 1.0, 1.0, 1.0, 0.0, 0.0, 0.0, 0.0, 6.0, 0.0, 3.0, 0.0, 0.0, 0.0, 0.0], [0.0, 0.0, 0.0, 0.0, 0.0, 1.0, 0.0, 0.0, 0.0, 0.0, 0.0, 2.0, 0.0, 0.0, 0.0, 0.0, 0.0, 0.0], [0.0, 2.0, 0.0, 0.0, 0.0, 0.0, 2.0, 0.0, 0.0, 0.0, 0.0, 0.0, 0.0, 0.0, 0.0, 0.0, 0.0, 0.0], [15.0, 0.0, 3.0, 12.0, 0.0, 0.0, 0.0, 0.0, 0.0, 0.0, 0.0, 0.0, 4.0, 0.0, 0.0, 0.0, 0.0, 0.0], [0.0, 0.0, 2.0, 2.0, 0.0, 0.0, 0.0, 1.0, 0.0, 0.0, 0.0, 0.0, 0.0, 0.0, 1.0, 0.0, 0.0, 0.0], [1.0, 3.0, 10.0, 2.0, 1.0, 2.0, 0.0, 0.0, 0.0, 0.0, 0.0, 6.0, 0.0, 3.0, 5.0, 0.0, 2.0, 0.0], [2.0, 0.0, 2.0, 0.0, 5.0, 0.0, 1.0, 0.0, 0.0, 0.0, 6.0, 3.0, 0.0, 0.0, 1.0, 0.0, 3.0, 0.0], [3.0, 7.0, 3.0, 2.0, 2.0, 2.0, 0.0, 0.0, 0.0, 0.0, 3.0, 1.0, 0.0, 0.0, 0.0, 2.0, 1.0, 0.0], [2.0, 2.0, 5.0, 0.0, 2.0, 0.0, 0.0, 2.0, 0.0, 3.0, 0.0, 2.0, 0.0, 2.0, 4.0, 2.0, 7.0, 0.0], [0.0, 1.0, 4.0, 3.0, 0.0, 0.0, 0.0, 3.0, 0.0, 0.0, 0.0, 0.0, 0.0, 0.0, 0.0, 0.0, 3.0, 0.0], [0.0, 0.0, 2.0, 1.0, 0.0, 0.0, 1.0, 2.0, 0.0, 0.0, 1.0, 0.0, 0.0, 1.0, 0.0, 2.0, 4.0, 0.0], [3.0, 0.0, 3.0, 0.0, 0.0, 0.0, 1.0, 0.0, 0.0, 0.0, 0.0, 2.0, 0.0, 0.0, 3.0, 2.0, 0.0, 0.0], [1.0, 1.0, 2.0, 0.0, 0.0, 1.0, 1.0, 2.0, 0.0, 0.0, 0.0, 2.0, 2.0, 0.0, 0.0, 3.0, 1.0, 2.0], [3.0, 0.0, 6.0, 0.0, 0.0, 3.0, 0.0, 3.0, 0.0, 1.0, 1.0, 2.0, 1.0, 0.0, 0.0, 0.0, 0.0, 0.0], [2.0, 1.0, 1.0, 7.0, 0.0, 0.0, 3.0, 1.0, 0.0, 2.0, 0.0, 3.0, 0.0, 0.0, 0.0, 2.0, 0.0, 0.0], [5.0, 6.0, 7.0, 14.0, 24.0, 3.0, 5.0, 4.0, 2.0, 1.0, 6.0, 4.0, 2.0, 2.0, 6.0, 5.0, 1.0, 0.0], [33.0, 28.0, 59.0, 17.0, 61.0, 15.0, 27.0, 13.0, 15.0, 20.0, 38.0, 9.0, 10.0, 13.0, 11.0, 10.0, 5.0, 2.0]], \"type\": \"heatmap\", \"uid\": \"1bcd252f-35e7-4ebf-bb8c-7810ce8352bc\"}], {\"title\": {\"text\": \"<b>Type 1 - Type 2 Relation</b>\"}, \"xaxis\": {\"title\": {\"text\": \"<b>Type 1</b>\"}}, \"yaxis\": {\"title\": {\"text\": \"<b>Type 2</b>\"}}}, {\"showLink\": false, \"linkText\": \"Export to plot.ly\", \"plotlyServerURL\": \"https://plot.ly\"})});</script><script type=\"text/javascript\">window.addEventListener(\"resize\", function(){window._Plotly.Plots.resize(document.getElementById(\"dd0b8075-6faf-4e22-980e-feecfcb1d451\"));});</script>"
      ]
     },
     "metadata": {},
     "output_type": "display_data"
    }
   ],
   "source": [
    "z1 = np.array([])\n",
    "z2 = []\n",
    "z3 = np.array([])\n",
    "for t2 in types2: \n",
    "    for t1 in types:\n",
    "        criteria1 = df['Type 1'] == t1\n",
    "        criteria2 = df['Type 2'] == t2\n",
    "        z2_val = len(df[criteria1 & criteria2])\n",
    "        z2.append(z2_val)\n",
    "    z1 = np.append(z1,[z2])\n",
    "    z2.clear()\n",
    "\n",
    "\n",
    "z3 = np.reshape(z1, (19, 18))\n",
    "\n",
    "# Make heatmap graph\n",
    "trace = go.Heatmap(z=z3,\n",
    "                   x=types,\n",
    "                   y=types2,\n",
    "                   colorscale='Hot',\n",
    "                   reversescale=True\n",
    "                  )\n",
    "\n",
    "layout = go.Layout(\n",
    "    title='<b>Type 1 - Type 2 Relation</b>',\n",
    "    xaxis = dict( title='<b>Type 1</b>'),\n",
    "    yaxis = dict(title='<b>Type 2</b>' ),\n",
    "    \n",
    ")\n",
    "\n",
    "data=[trace]\n",
    "fig = go.Figure(data=data, layout=layout)\n",
    "iplot(fig)"
   ]
  },
  {
   "cell_type": "markdown",
   "metadata": {
    "_uuid": "26cf92ca2a665bd5032c52502f29835156574c50"
   },
   "source": [
    "# Status"
   ]
  },
  {
   "cell_type": "markdown",
   "metadata": {
    "_uuid": "9fdd3615d3402b1d4184967e62406f25f436e4a3"
   },
   "source": [
    "In Pokemon they are 6 status that every Pokemon has.\n",
    "- HP : Hit Points, determine how much damage a Pokémon can receive before fainting.\n",
    "- Attack : Determines how much damage a Pokémon deals when using a physical move.\n",
    "- Defense : Determines how much damage a Pokémon receives when it is hit with a physical move.\n",
    "- Sp. Attack : Determines how much damage a Pokémon deals when using a special move.\n",
    "- Sp. Defense : Determines how much damage a Pokémon receives when it is hit with a special move.\n",
    "- Speed : Determines who will attack first in a battle."
   ]
  },
  {
   "cell_type": "code",
   "execution_count": 11,
   "metadata": {
    "_kg_hide-input": true,
    "_uuid": "f004bc65c492cf7ae57f10ffa96889e5e682fad1"
   },
   "outputs": [
    {
     "data": {
      "application/vnd.plotly.v1+json": {
       "config": {
        "linkText": "Export to plot.ly",
        "plotlyServerURL": "https://plot.ly",
        "showLink": false
       },
       "data": [
        {
         "name": "Mean of Total Stats",
         "type": "scatter",
         "uid": "be886bc6-aeb3-4db1-adf5-b4054f8941f1",
         "x": [
          1,
          2,
          3,
          4,
          5,
          6
         ],
         "y": [
          426,
          418,
          436,
          459,
          434,
          436
         ]
        }
       ],
       "layout": {
        "showlegend": true,
        "title": {
         "text": "<b>Average Total Status in Each Generation</b>"
        },
        "yaxis": {
         "dtick": 10,
         "range": [
          400,
          480
         ]
        }
       }
      },
      "text/html": [
       "<div id=\"1ca078ed-08e4-4d07-94d1-26f184717787\" style=\"height: 525px; width: 100%;\" class=\"plotly-graph-div\"></div><script type=\"text/javascript\">require([\"plotly\"], function(Plotly) { window.PLOTLYENV=window.PLOTLYENV || {};window.PLOTLYENV.BASE_URL=\"https://plot.ly\";Plotly.newPlot(\"1ca078ed-08e4-4d07-94d1-26f184717787\", [{\"name\": \"Mean of Total Stats\", \"x\": [1, 2, 3, 4, 5, 6], \"y\": [426, 418, 436, 459, 434, 436], \"type\": \"scatter\", \"uid\": \"be886bc6-aeb3-4db1-adf5-b4054f8941f1\"}], {\"showlegend\": true, \"title\": {\"text\": \"<b>Average Total Status in Each Generation</b>\"}, \"yaxis\": {\"dtick\": 10, \"range\": [400, 480]}}, {\"showLink\": false, \"linkText\": \"Export to plot.ly\", \"plotlyServerURL\": \"https://plot.ly\"})});</script><script type=\"text/javascript\">window.addEventListener(\"resize\", function(){window._Plotly.Plots.resize(document.getElementById(\"1ca078ed-08e4-4d07-94d1-26f184717787\"));});</script>"
      ],
      "text/vnd.plotly.v1+html": [
       "<div id=\"1ca078ed-08e4-4d07-94d1-26f184717787\" style=\"height: 525px; width: 100%;\" class=\"plotly-graph-div\"></div><script type=\"text/javascript\">require([\"plotly\"], function(Plotly) { window.PLOTLYENV=window.PLOTLYENV || {};window.PLOTLYENV.BASE_URL=\"https://plot.ly\";Plotly.newPlot(\"1ca078ed-08e4-4d07-94d1-26f184717787\", [{\"name\": \"Mean of Total Stats\", \"x\": [1, 2, 3, 4, 5, 6], \"y\": [426, 418, 436, 459, 434, 436], \"type\": \"scatter\", \"uid\": \"be886bc6-aeb3-4db1-adf5-b4054f8941f1\"}], {\"showlegend\": true, \"title\": {\"text\": \"<b>Average Total Status in Each Generation</b>\"}, \"yaxis\": {\"dtick\": 10, \"range\": [400, 480]}}, {\"showLink\": false, \"linkText\": \"Export to plot.ly\", \"plotlyServerURL\": \"https://plot.ly\"})});</script><script type=\"text/javascript\">window.addEventListener(\"resize\", function(){window._Plotly.Plots.resize(document.getElementById(\"1ca078ed-08e4-4d07-94d1-26f184717787\"));});</script>"
      ]
     },
     "metadata": {},
     "output_type": "display_data"
    }
   ],
   "source": [
    "# Now Let's Move to Stats Section\n",
    "df_gen_1 = df[df['Generation'] == 1]\n",
    "df_gen_2 = df[df['Generation'] == 2]\n",
    "df_gen_3 = df[df['Generation'] == 3]\n",
    "df_gen_4 = df[df['Generation'] == 4]\n",
    "df_gen_5 = df[df['Generation'] == 5]\n",
    "df_gen_6 = df[df['Generation'] == 6]\n",
    "\n",
    "total_list = [df_gen_1['Total'].mean(), df_gen_2['Total'].mean(), df_gen_3['Total'].mean(),\n",
    "           df_gen_4['Total'].mean(), df_gen_5['Total'].mean(), df_gen_6['Total'].mean()]\n",
    "total_list = [int(i) for i in total_list]\n",
    "# print(results)\n",
    "\n",
    "trace = go.Scatter(x=df['Generation'].unique(),\n",
    "                   y=total_list,\n",
    "                   name='Mean of Total Stats'\n",
    "                  )\n",
    "layout = go.Layout(title='<b>Average Total Status in Each Generation</b>',\n",
    "                  showlegend=True,\n",
    "                  yaxis=dict(\n",
    "                    range=[400, 480],\n",
    "                    dtick=10)\n",
    "                  )\n",
    "\n",
    "fig = go.Figure(data=[trace], layout=layout)\n",
    "iplot(fig)"
   ]
  },
  {
   "cell_type": "markdown",
   "metadata": {
    "_uuid": "c28c3f6ad2a0b8f09fae45b0de76576d12713657"
   },
   "source": [
    "Whoa Generation IV has the highest total stats. Let's see each status comparison too!"
   ]
  },
  {
   "cell_type": "code",
   "execution_count": 12,
   "metadata": {
    "_kg_hide-input": true,
    "_uuid": "d1c81a89d893321a6b2f899ae946bb4ced4c5c79"
   },
   "outputs": [
    {
     "data": {
      "application/vnd.plotly.v1+json": {
       "config": {
        "linkText": "Export to plot.ly",
        "plotlyServerURL": "https://plot.ly",
        "showLink": false
       },
       "data": [
        {
         "name": "Generation 1",
         "type": "scatter",
         "uid": "fc9b98d9-bc52-4bcb-8e60-63c2b5461331",
         "x": [
          "HP",
          "Attack",
          "Defense",
          "Sp. Atk",
          "Sp. Def",
          "Speed"
         ],
         "y": [
          65,
          76,
          70,
          71,
          69,
          72
         ]
        },
        {
         "name": "Generation 2",
         "type": "scatter",
         "uid": "7a8f165b-e55d-49db-bdec-365eecea1538",
         "x": [
          "HP",
          "Attack",
          "Defense",
          "Sp. Atk",
          "Sp. Def",
          "Speed"
         ],
         "y": [
          71,
          72,
          73,
          65,
          73,
          61
         ]
        },
        {
         "name": "Generation 3",
         "type": "scatter",
         "uid": "e59872ba-6c15-4c03-9320-cb3db5a2bcb9",
         "x": [
          "HP",
          "Attack",
          "Defense",
          "Sp. Atk",
          "Sp. Def",
          "Speed"
         ],
         "y": [
          66,
          81,
          74,
          75,
          71,
          66
         ]
        },
        {
         "name": "Generation 4",
         "type": "scatter",
         "uid": "328c62f3-c474-4573-90c7-3fb23760ced7",
         "x": [
          "HP",
          "Attack",
          "Defense",
          "Sp. Atk",
          "Sp. Def",
          "Speed"
         ],
         "y": [
          73,
          82,
          78,
          76,
          77,
          71
         ]
        },
        {
         "name": "Generation 5",
         "type": "scatter",
         "uid": "83cb9510-1fa0-49a5-a9c5-df40f495f200",
         "x": [
          "HP",
          "Attack",
          "Defense",
          "Sp. Atk",
          "Sp. Def",
          "Speed"
         ],
         "y": [
          71,
          82,
          72,
          71,
          68,
          68
         ]
        },
        {
         "name": "Generation 6",
         "type": "scatter",
         "uid": "aeae9d54-3a1e-4b5d-b952-7dc7a78ac6bc",
         "x": [
          "HP",
          "Attack",
          "Defense",
          "Sp. Atk",
          "Sp. Def",
          "Speed"
         ],
         "y": [
          68,
          75,
          76,
          74,
          74,
          66
         ]
        }
       ],
       "layout": {
        "showlegend": true,
        "title": {
         "text": "<b>Each Generation Stats Comparison</b>"
        },
        "yaxis": {
         "dtick": 5,
         "range": [
          60,
          85
         ]
        }
       }
      },
      "text/html": [
       "<div id=\"dcdabe09-5c99-44fe-8b1b-f924822525ff\" style=\"height: 525px; width: 100%;\" class=\"plotly-graph-div\"></div><script type=\"text/javascript\">require([\"plotly\"], function(Plotly) { window.PLOTLYENV=window.PLOTLYENV || {};window.PLOTLYENV.BASE_URL=\"https://plot.ly\";Plotly.newPlot(\"dcdabe09-5c99-44fe-8b1b-f924822525ff\", [{\"name\": \"Generation 1\", \"x\": [\"HP\", \"Attack\", \"Defense\", \"Sp. Atk\", \"Sp. Def\", \"Speed\"], \"y\": [65, 76, 70, 71, 69, 72], \"type\": \"scatter\", \"uid\": \"fc9b98d9-bc52-4bcb-8e60-63c2b5461331\"}, {\"name\": \"Generation 2\", \"x\": [\"HP\", \"Attack\", \"Defense\", \"Sp. Atk\", \"Sp. Def\", \"Speed\"], \"y\": [71, 72, 73, 65, 73, 61], \"type\": \"scatter\", \"uid\": \"7a8f165b-e55d-49db-bdec-365eecea1538\"}, {\"name\": \"Generation 3\", \"x\": [\"HP\", \"Attack\", \"Defense\", \"Sp. Atk\", \"Sp. Def\", \"Speed\"], \"y\": [66, 81, 74, 75, 71, 66], \"type\": \"scatter\", \"uid\": \"e59872ba-6c15-4c03-9320-cb3db5a2bcb9\"}, {\"name\": \"Generation 4\", \"x\": [\"HP\", \"Attack\", \"Defense\", \"Sp. Atk\", \"Sp. Def\", \"Speed\"], \"y\": [73, 82, 78, 76, 77, 71], \"type\": \"scatter\", \"uid\": \"328c62f3-c474-4573-90c7-3fb23760ced7\"}, {\"name\": \"Generation 5\", \"x\": [\"HP\", \"Attack\", \"Defense\", \"Sp. Atk\", \"Sp. Def\", \"Speed\"], \"y\": [71, 82, 72, 71, 68, 68], \"type\": \"scatter\", \"uid\": \"83cb9510-1fa0-49a5-a9c5-df40f495f200\"}, {\"name\": \"Generation 6\", \"x\": [\"HP\", \"Attack\", \"Defense\", \"Sp. Atk\", \"Sp. Def\", \"Speed\"], \"y\": [68, 75, 76, 74, 74, 66], \"type\": \"scatter\", \"uid\": \"aeae9d54-3a1e-4b5d-b952-7dc7a78ac6bc\"}], {\"showlegend\": true, \"title\": {\"text\": \"<b>Each Generation Stats Comparison</b>\"}, \"yaxis\": {\"dtick\": 5, \"range\": [60, 85]}}, {\"showLink\": false, \"linkText\": \"Export to plot.ly\", \"plotlyServerURL\": \"https://plot.ly\"})});</script><script type=\"text/javascript\">window.addEventListener(\"resize\", function(){window._Plotly.Plots.resize(document.getElementById(\"dcdabe09-5c99-44fe-8b1b-f924822525ff\"));});</script>"
      ],
      "text/vnd.plotly.v1+html": [
       "<div id=\"dcdabe09-5c99-44fe-8b1b-f924822525ff\" style=\"height: 525px; width: 100%;\" class=\"plotly-graph-div\"></div><script type=\"text/javascript\">require([\"plotly\"], function(Plotly) { window.PLOTLYENV=window.PLOTLYENV || {};window.PLOTLYENV.BASE_URL=\"https://plot.ly\";Plotly.newPlot(\"dcdabe09-5c99-44fe-8b1b-f924822525ff\", [{\"name\": \"Generation 1\", \"x\": [\"HP\", \"Attack\", \"Defense\", \"Sp. Atk\", \"Sp. Def\", \"Speed\"], \"y\": [65, 76, 70, 71, 69, 72], \"type\": \"scatter\", \"uid\": \"fc9b98d9-bc52-4bcb-8e60-63c2b5461331\"}, {\"name\": \"Generation 2\", \"x\": [\"HP\", \"Attack\", \"Defense\", \"Sp. Atk\", \"Sp. Def\", \"Speed\"], \"y\": [71, 72, 73, 65, 73, 61], \"type\": \"scatter\", \"uid\": \"7a8f165b-e55d-49db-bdec-365eecea1538\"}, {\"name\": \"Generation 3\", \"x\": [\"HP\", \"Attack\", \"Defense\", \"Sp. Atk\", \"Sp. Def\", \"Speed\"], \"y\": [66, 81, 74, 75, 71, 66], \"type\": \"scatter\", \"uid\": \"e59872ba-6c15-4c03-9320-cb3db5a2bcb9\"}, {\"name\": \"Generation 4\", \"x\": [\"HP\", \"Attack\", \"Defense\", \"Sp. Atk\", \"Sp. Def\", \"Speed\"], \"y\": [73, 82, 78, 76, 77, 71], \"type\": \"scatter\", \"uid\": \"328c62f3-c474-4573-90c7-3fb23760ced7\"}, {\"name\": \"Generation 5\", \"x\": [\"HP\", \"Attack\", \"Defense\", \"Sp. Atk\", \"Sp. Def\", \"Speed\"], \"y\": [71, 82, 72, 71, 68, 68], \"type\": \"scatter\", \"uid\": \"83cb9510-1fa0-49a5-a9c5-df40f495f200\"}, {\"name\": \"Generation 6\", \"x\": [\"HP\", \"Attack\", \"Defense\", \"Sp. Atk\", \"Sp. Def\", \"Speed\"], \"y\": [68, 75, 76, 74, 74, 66], \"type\": \"scatter\", \"uid\": \"aeae9d54-3a1e-4b5d-b952-7dc7a78ac6bc\"}], {\"showlegend\": true, \"title\": {\"text\": \"<b>Each Generation Stats Comparison</b>\"}, \"yaxis\": {\"dtick\": 5, \"range\": [60, 85]}}, {\"showLink\": false, \"linkText\": \"Export to plot.ly\", \"plotlyServerURL\": \"https://plot.ly\"})});</script><script type=\"text/javascript\">window.addEventListener(\"resize\", function(){window._Plotly.Plots.resize(document.getElementById(\"dcdabe09-5c99-44fe-8b1b-f924822525ff\"));});</script>"
      ]
     },
     "metadata": {},
     "output_type": "display_data"
    }
   ],
   "source": [
    "status_type = ['HP', 'Attack', 'Defense', 'Sp. Atk', 'Sp. Def', 'Speed']\n",
    "\n",
    "all_stats_1 = [df_gen_1['HP'].mean(), df_gen_1['Attack'].mean(), df_gen_1['Defense'].mean(),\n",
    "               df_gen_1['Sp. Atk'].mean(), df_gen_1['Sp. Def'].mean(), df_gen_1['Speed'].mean()]\n",
    "\n",
    "all_stats_2 = [df_gen_2['HP'].mean(), df_gen_2['Attack'].mean(), df_gen_2['Defense'].mean(),\n",
    "               df_gen_2['Sp. Atk'].mean(), df_gen_2['Sp. Def'].mean(), df_gen_2['Speed'].mean()]\n",
    "\n",
    "all_stats_3 = [df_gen_3['HP'].mean(), df_gen_3['Attack'].mean(), df_gen_3['Defense'].mean(),\n",
    "               df_gen_3['Sp. Atk'].mean(), df_gen_3['Sp. Def'].mean(), df_gen_3['Speed'].mean()]\n",
    "\n",
    "all_stats_4 = [df_gen_4['HP'].mean(), df_gen_4['Attack'].mean(), df_gen_4['Defense'].mean(),\n",
    "               df_gen_4['Sp. Atk'].mean(), df_gen_4['Sp. Def'].mean(), df_gen_4['Speed'].mean()]\n",
    "\n",
    "all_stats_5 = [df_gen_5['HP'].mean(), df_gen_5['Attack'].mean(), df_gen_5['Defense'].mean(),\n",
    "               df_gen_5['Sp. Atk'].mean(), df_gen_5['Sp. Def'].mean(), df_gen_5['Speed'].mean()]\n",
    "\n",
    "all_stats_6 = [df_gen_6['HP'].mean(), df_gen_6['Attack'].mean(), df_gen_6['Defense'].mean(),\n",
    "               df_gen_6['Sp. Atk'].mean(), df_gen_6['Sp. Def'].mean(), df_gen_6['Speed'].mean()]\n",
    "\n",
    "\n",
    "all_stats_1 = [int(i) for i in all_stats_1]\n",
    "all_stats_2 = [int(i) for i in all_stats_2]\n",
    "all_stats_3 = [int(i) for i in all_stats_3]\n",
    "all_stats_4 = [int(i) for i in all_stats_4]\n",
    "all_stats_5 = [int(i) for i in all_stats_5]\n",
    "all_stats_6 = [int(i) for i in all_stats_6]\n",
    "\n",
    "trace1 = go.Scatter(x = status_type,\n",
    "                    y = all_stats_1,\n",
    "                    name = 'Generation 1')\n",
    "\n",
    "trace2 = go.Scatter(x = status_type,\n",
    "                    y = all_stats_2,\n",
    "                    name = 'Generation 2')\n",
    "\n",
    "trace3 = go.Scatter(x = status_type,\n",
    "                    y = all_stats_3,\n",
    "                    name = 'Generation 3')\n",
    "\n",
    "trace4 = go.Scatter(x = status_type,\n",
    "                    y = all_stats_4,\n",
    "                    name = 'Generation 4')\n",
    "\n",
    "trace5 = go.Scatter(x = status_type,\n",
    "                    y = all_stats_5,\n",
    "                    name = 'Generation 5')\n",
    "\n",
    "trace6 = go.Scatter(x = status_type,\n",
    "                    y = all_stats_6,\n",
    "                    name = 'Generation 6')\n",
    "\n",
    "data = [trace1,trace2, trace3, trace4, trace5, trace6]\n",
    "\n",
    "layout = go.Layout(title='<b>Each Generation Stats Comparison</b>',\n",
    "                  showlegend=True,\n",
    "                  yaxis=dict(\n",
    "                    range=[60, 85],\n",
    "                    dtick=5)\n",
    "                  )\n",
    "\n",
    "fig = go.Figure(data=data, layout=layout)\n",
    "iplot(fig)\n",
    "\n"
   ]
  },
  {
   "cell_type": "markdown",
   "metadata": {
    "_uuid": "7e423ed45eea9d3c5e21590967611ea9029ededd"
   },
   "source": [
    "It's shown that Generation IV Pokemons have higher points almost in every stats. The opposite from that Generation II has almost lower stats in every aspect, especially Sp. Attack and Speed."
   ]
  },
  {
   "cell_type": "code",
   "execution_count": 13,
   "metadata": {
    "_kg_hide-input": true,
    "_uuid": "16f78a626610f492cda907675c8bb730625c06e2"
   },
   "outputs": [
    {
     "data": {
      "application/vnd.plotly.v1+json": {
       "config": {
        "linkText": "Export to plot.ly",
        "plotlyServerURL": "https://plot.ly",
        "showLink": false
       },
       "data": [
        {
         "marker": {
          "color": [
           "#78C850",
           "#F08030",
           "#6890F0",
           "#A8B820",
           "#A8A878",
           "#A040A0",
           "#F8D030",
           "#E0C068",
           "#EE99AC",
           "#C03028",
           "#F85888",
           "#B8A038",
           "#705898",
           "#98D8D8",
           "#7038F8",
           "#705848",
           "#B8B8D0",
           "#A890F0",
           "#353535"
          ]
         },
         "orientation": "h",
         "type": "bar",
         "uid": "b831acb9-6e16-40a5-9044-2da04ba8a888",
         "x": [
          417.9263157894737,
          467.109375,
          429.0952380952381,
          379.52777777777777,
          402.0686274509804,
          397.69354838709677,
          444.84,
          441.07462686567163,
          415.925,
          470.1132075471698,
          477.0888888888889,
          449.13793103448273,
          436.8695652173913,
          467.44736842105266,
          541.76,
          460.9019607843137,
          486.59183673469386,
          453.83168316831683
         ],
         "y": [
          "Grass",
          "Fire",
          "Water",
          "Bug",
          "Normal",
          "Poison",
          "Electric",
          "Ground",
          "Fairy",
          "Fighting",
          "Psychic",
          "Rock",
          "Ghost",
          "Ice",
          "Dragon",
          "Dark",
          "Steel",
          "Flying"
         ]
        }
       ],
       "layout": {
        "margin": {
         "pad": 5
        },
        "title": {
         "text": "<b>Average Total Power for Each Types</b>"
        },
        "xaxis": {
         "dtick": 50,
         "range": [
          350,
          550
         ]
        }
       }
      },
      "text/html": [
       "<div id=\"05153ec8-e03e-4966-904a-2bc23d500642\" style=\"height: 525px; width: 100%;\" class=\"plotly-graph-div\"></div><script type=\"text/javascript\">require([\"plotly\"], function(Plotly) { window.PLOTLYENV=window.PLOTLYENV || {};window.PLOTLYENV.BASE_URL=\"https://plot.ly\";Plotly.newPlot(\"05153ec8-e03e-4966-904a-2bc23d500642\", [{\"marker\": {\"color\": [\"#78C850\", \"#F08030\", \"#6890F0\", \"#A8B820\", \"#A8A878\", \"#A040A0\", \"#F8D030\", \"#E0C068\", \"#EE99AC\", \"#C03028\", \"#F85888\", \"#B8A038\", \"#705898\", \"#98D8D8\", \"#7038F8\", \"#705848\", \"#B8B8D0\", \"#A890F0\", \"#353535\"]}, \"orientation\": \"h\", \"x\": [417.9263157894737, 467.109375, 429.0952380952381, 379.52777777777777, 402.0686274509804, 397.69354838709677, 444.84, 441.07462686567163, 415.925, 470.1132075471698, 477.0888888888889, 449.13793103448273, 436.8695652173913, 467.44736842105266, 541.76, 460.9019607843137, 486.59183673469386, 453.83168316831683], \"y\": [\"Grass\", \"Fire\", \"Water\", \"Bug\", \"Normal\", \"Poison\", \"Electric\", \"Ground\", \"Fairy\", \"Fighting\", \"Psychic\", \"Rock\", \"Ghost\", \"Ice\", \"Dragon\", \"Dark\", \"Steel\", \"Flying\"], \"type\": \"bar\", \"uid\": \"b831acb9-6e16-40a5-9044-2da04ba8a888\"}], {\"margin\": {\"pad\": 5}, \"title\": {\"text\": \"<b>Average Total Power for Each Types</b>\"}, \"xaxis\": {\"dtick\": 50, \"range\": [350, 550]}}, {\"showLink\": false, \"linkText\": \"Export to plot.ly\", \"plotlyServerURL\": \"https://plot.ly\"})});</script><script type=\"text/javascript\">window.addEventListener(\"resize\", function(){window._Plotly.Plots.resize(document.getElementById(\"05153ec8-e03e-4966-904a-2bc23d500642\"));});</script>"
      ],
      "text/vnd.plotly.v1+html": [
       "<div id=\"05153ec8-e03e-4966-904a-2bc23d500642\" style=\"height: 525px; width: 100%;\" class=\"plotly-graph-div\"></div><script type=\"text/javascript\">require([\"plotly\"], function(Plotly) { window.PLOTLYENV=window.PLOTLYENV || {};window.PLOTLYENV.BASE_URL=\"https://plot.ly\";Plotly.newPlot(\"05153ec8-e03e-4966-904a-2bc23d500642\", [{\"marker\": {\"color\": [\"#78C850\", \"#F08030\", \"#6890F0\", \"#A8B820\", \"#A8A878\", \"#A040A0\", \"#F8D030\", \"#E0C068\", \"#EE99AC\", \"#C03028\", \"#F85888\", \"#B8A038\", \"#705898\", \"#98D8D8\", \"#7038F8\", \"#705848\", \"#B8B8D0\", \"#A890F0\", \"#353535\"]}, \"orientation\": \"h\", \"x\": [417.9263157894737, 467.109375, 429.0952380952381, 379.52777777777777, 402.0686274509804, 397.69354838709677, 444.84, 441.07462686567163, 415.925, 470.1132075471698, 477.0888888888889, 449.13793103448273, 436.8695652173913, 467.44736842105266, 541.76, 460.9019607843137, 486.59183673469386, 453.83168316831683], \"y\": [\"Grass\", \"Fire\", \"Water\", \"Bug\", \"Normal\", \"Poison\", \"Electric\", \"Ground\", \"Fairy\", \"Fighting\", \"Psychic\", \"Rock\", \"Ghost\", \"Ice\", \"Dragon\", \"Dark\", \"Steel\", \"Flying\"], \"type\": \"bar\", \"uid\": \"b831acb9-6e16-40a5-9044-2da04ba8a888\"}], {\"margin\": {\"pad\": 5}, \"title\": {\"text\": \"<b>Average Total Power for Each Types</b>\"}, \"xaxis\": {\"dtick\": 50, \"range\": [350, 550]}}, {\"showLink\": false, \"linkText\": \"Export to plot.ly\", \"plotlyServerURL\": \"https://plot.ly\"})});</script><script type=\"text/javascript\">window.addEventListener(\"resize\", function(){window._Plotly.Plots.resize(document.getElementById(\"05153ec8-e03e-4966-904a-2bc23d500642\"));});</script>"
      ]
     },
     "metadata": {},
     "output_type": "display_data"
    }
   ],
   "source": [
    "# Status Comparison per each Type\n",
    "\n",
    "total_mean_values = []\n",
    "for t in types:\n",
    "    criteria_1 = df['Type 1'] == t\n",
    "    criteria_2 = df['Type 2'] == t\n",
    "    criteria = criteria_1 | criteria_2\n",
    "    df_type = df[criteria]\n",
    "    total_mean = df_type['Total'].mean()\n",
    "    total_mean_values.append(total_mean)\n",
    "    \n",
    "# Horizontal\n",
    "trace_bar = go.Bar(x = total_mean_values,\n",
    "                   y = types,\n",
    "                   orientation = 'h',\n",
    "                   marker=dict(color=colors)\n",
    "                  )\n",
    "\n",
    "layout = go.Layout(\n",
    "                    title='<b>Average Total Power for Each Types</b>',\n",
    "                    margin=go.layout.Margin(                   \n",
    "                        pad=5),\n",
    "                    xaxis=dict(\n",
    "                            range=[350, 550],\n",
    "                            dtick=50)\n",
    "                  )\n",
    "data = [trace_bar]\n",
    "fig = go.Figure(data=data, layout=layout)\n",
    "iplot(fig)"
   ]
  },
  {
   "cell_type": "markdown",
   "metadata": {
    "_uuid": "8fd52b06aa9be08adc39c265d18d27457690056d"
   },
   "source": [
    "As I expected, Dragon pokemons are the most powerful type in the Pokemon world since many legendaries also have this type following with Steel and Psyhic type."
   ]
  },
  {
   "cell_type": "markdown",
   "metadata": {
    "_uuid": "7075000dbfe397d820d86346e74757821903f70b"
   },
   "source": [
    "# Legendaries"
   ]
  },
  {
   "cell_type": "code",
   "execution_count": 14,
   "metadata": {
    "_kg_hide-input": true,
    "_uuid": "22fe115761234ec4ff06a1e54e40122ae629e096"
   },
   "outputs": [
    {
     "data": {
      "application/vnd.plotly.v1+json": {
       "config": {
        "linkText": "Export to plot.ly",
        "plotlyServerURL": "https://plot.ly",
        "showLink": false
       },
       "data": [
        {
         "labels": [
          "Ordinary",
          "Legendary"
         ],
         "marker": {
          "colors": [
           "#4777BA",
           "#DC2634",
           "#FFC009",
           "#FBFF09"
          ]
         },
         "textfont": {
          "size": 16
         },
         "type": "pie",
         "uid": "7730cfff-bd1f-4a3f-a62d-894d84a53c72",
         "values": [
          735,
          65
         ]
        }
       ],
       "layout": {
        "margin": {
         "pad": 5
        },
        "title": {
         "text": "<b>How Many Legendaries Out There?</b>"
        }
       }
      },
      "text/html": [
       "<div id=\"1870d01e-176d-4180-a42b-7df49873fcdb\" style=\"height: 525px; width: 100%;\" class=\"plotly-graph-div\"></div><script type=\"text/javascript\">require([\"plotly\"], function(Plotly) { window.PLOTLYENV=window.PLOTLYENV || {};window.PLOTLYENV.BASE_URL=\"https://plot.ly\";Plotly.newPlot(\"1870d01e-176d-4180-a42b-7df49873fcdb\", [{\"labels\": [\"Ordinary\", \"Legendary\"], \"marker\": {\"colors\": [\"#4777BA\", \"#DC2634\", \"#FFC009\", \"#FBFF09\"]}, \"textfont\": {\"size\": 16}, \"values\": [735, 65], \"type\": \"pie\", \"uid\": \"7730cfff-bd1f-4a3f-a62d-894d84a53c72\"}], {\"margin\": {\"pad\": 5}, \"title\": {\"text\": \"<b>How Many Legendaries Out There?</b>\"}}, {\"showLink\": false, \"linkText\": \"Export to plot.ly\", \"plotlyServerURL\": \"https://plot.ly\"})});</script><script type=\"text/javascript\">window.addEventListener(\"resize\", function(){window._Plotly.Plots.resize(document.getElementById(\"1870d01e-176d-4180-a42b-7df49873fcdb\"));});</script>"
      ],
      "text/vnd.plotly.v1+html": [
       "<div id=\"1870d01e-176d-4180-a42b-7df49873fcdb\" style=\"height: 525px; width: 100%;\" class=\"plotly-graph-div\"></div><script type=\"text/javascript\">require([\"plotly\"], function(Plotly) { window.PLOTLYENV=window.PLOTLYENV || {};window.PLOTLYENV.BASE_URL=\"https://plot.ly\";Plotly.newPlot(\"1870d01e-176d-4180-a42b-7df49873fcdb\", [{\"labels\": [\"Ordinary\", \"Legendary\"], \"marker\": {\"colors\": [\"#4777BA\", \"#DC2634\", \"#FFC009\", \"#FBFF09\"]}, \"textfont\": {\"size\": 16}, \"values\": [735, 65], \"type\": \"pie\", \"uid\": \"7730cfff-bd1f-4a3f-a62d-894d84a53c72\"}], {\"margin\": {\"pad\": 5}, \"title\": {\"text\": \"<b>How Many Legendaries Out There?</b>\"}}, {\"showLink\": false, \"linkText\": \"Export to plot.ly\", \"plotlyServerURL\": \"https://plot.ly\"})});</script><script type=\"text/javascript\">window.addEventListener(\"resize\", function(){window._Plotly.Plots.resize(document.getElementById(\"1870d01e-176d-4180-a42b-7df49873fcdb\"));});</script>"
      ]
     },
     "metadata": {},
     "output_type": "display_data"
    }
   ],
   "source": [
    "labels = ['Ordinary', 'Legendary']\n",
    "values = [len(df[df['Legendary'] == False]), len(df[df['Legendary'] == True])]\n",
    "colors_pie = ['#4777BA', '#DC2634', '#FFC009', '#FBFF09']\n",
    "\n",
    "trace = go.Pie(labels=labels, \n",
    "               values=values,\n",
    "               textfont=dict(size=16),\n",
    "               marker=dict(\n",
    "                   colors=colors_pie,\n",
    "#                    line=dict(color='#000000', width = 0.8)\n",
    "               )\n",
    "              )\n",
    "\n",
    "\n",
    "layout = go.Layout(\n",
    "                    title='<b>How Many Legendaries Out There?</b>',\n",
    "                    margin=go.layout.Margin(                   \n",
    "                        pad=5)\n",
    ")\n",
    "\n",
    "data = [trace]\n",
    "fig = go.Figure(data=data, layout=layout)\n",
    "\n",
    "iplot(fig)"
   ]
  },
  {
   "cell_type": "code",
   "execution_count": 15,
   "metadata": {
    "_kg_hide-input": true,
    "_uuid": "056e63d13f373cc4dd3be46f11b14faafeab81ce"
   },
   "outputs": [
    {
     "data": {
      "application/vnd.plotly.v1+json": {
       "config": {
        "linkText": "Export to plot.ly",
        "plotlyServerURL": "https://plot.ly",
        "showLink": false
       },
       "data": [
        {
         "name": "Ordinary",
         "type": "bar",
         "uid": "6576690b-608d-4bd4-af3b-b7d3ef506254",
         "x": [
          1,
          2,
          3,
          4,
          5,
          6
         ],
         "y": [
          160,
          101,
          142,
          108,
          150,
          74
         ]
        },
        {
         "name": "Legendary",
         "type": "bar",
         "uid": "60026207-2624-4d87-9fcd-98c380e0ca52",
         "x": [
          1,
          2,
          3,
          4,
          5,
          6
         ],
         "y": [
          6,
          5,
          18,
          13,
          15,
          8
         ]
        }
       ],
       "layout": {
        "barmode": "group",
        "title": {
         "text": "<b>Number of Ordinaries vs Legendaries Pokemon in Each Gen</b>"
        },
        "xaxis": {
         "tickfont": {
          "color": "black",
          "family": "Arial, serif",
          "size": 14
         },
         "title": {
          "font": {
           "color": "grey",
           "family": "Arial, sans-serif",
           "size": 19
          },
          "text": "Generation"
         }
        }
       }
      },
      "text/html": [
       "<div id=\"8ed3b040-6810-43bd-8ab4-a020c219b4dc\" style=\"height: 525px; width: 100%;\" class=\"plotly-graph-div\"></div><script type=\"text/javascript\">require([\"plotly\"], function(Plotly) { window.PLOTLYENV=window.PLOTLYENV || {};window.PLOTLYENV.BASE_URL=\"https://plot.ly\";Plotly.newPlot(\"8ed3b040-6810-43bd-8ab4-a020c219b4dc\", [{\"name\": \"Ordinary\", \"x\": [1, 2, 3, 4, 5, 6], \"y\": [160, 101, 142, 108, 150, 74], \"type\": \"bar\", \"uid\": \"6576690b-608d-4bd4-af3b-b7d3ef506254\"}, {\"name\": \"Legendary\", \"x\": [1, 2, 3, 4, 5, 6], \"y\": [6, 5, 18, 13, 15, 8], \"type\": \"bar\", \"uid\": \"60026207-2624-4d87-9fcd-98c380e0ca52\"}], {\"barmode\": \"group\", \"title\": {\"text\": \"<b>Number of Ordinaries vs Legendaries Pokemon in Each Gen</b>\"}, \"xaxis\": {\"tickfont\": {\"color\": \"black\", \"family\": \"Arial, serif\", \"size\": 14}, \"title\": {\"font\": {\"color\": \"grey\", \"family\": \"Arial, sans-serif\", \"size\": 19}, \"text\": \"Generation\"}}}, {\"showLink\": false, \"linkText\": \"Export to plot.ly\", \"plotlyServerURL\": \"https://plot.ly\"})});</script><script type=\"text/javascript\">window.addEventListener(\"resize\", function(){window._Plotly.Plots.resize(document.getElementById(\"8ed3b040-6810-43bd-8ab4-a020c219b4dc\"));});</script>"
      ],
      "text/vnd.plotly.v1+html": [
       "<div id=\"8ed3b040-6810-43bd-8ab4-a020c219b4dc\" style=\"height: 525px; width: 100%;\" class=\"plotly-graph-div\"></div><script type=\"text/javascript\">require([\"plotly\"], function(Plotly) { window.PLOTLYENV=window.PLOTLYENV || {};window.PLOTLYENV.BASE_URL=\"https://plot.ly\";Plotly.newPlot(\"8ed3b040-6810-43bd-8ab4-a020c219b4dc\", [{\"name\": \"Ordinary\", \"x\": [1, 2, 3, 4, 5, 6], \"y\": [160, 101, 142, 108, 150, 74], \"type\": \"bar\", \"uid\": \"6576690b-608d-4bd4-af3b-b7d3ef506254\"}, {\"name\": \"Legendary\", \"x\": [1, 2, 3, 4, 5, 6], \"y\": [6, 5, 18, 13, 15, 8], \"type\": \"bar\", \"uid\": \"60026207-2624-4d87-9fcd-98c380e0ca52\"}], {\"barmode\": \"group\", \"title\": {\"text\": \"<b>Number of Ordinaries vs Legendaries Pokemon in Each Gen</b>\"}, \"xaxis\": {\"tickfont\": {\"color\": \"black\", \"family\": \"Arial, serif\", \"size\": 14}, \"title\": {\"font\": {\"color\": \"grey\", \"family\": \"Arial, sans-serif\", \"size\": 19}, \"text\": \"Generation\"}}}, {\"showLink\": false, \"linkText\": \"Export to plot.ly\", \"plotlyServerURL\": \"https://plot.ly\"})});</script><script type=\"text/javascript\">window.addEventListener(\"resize\", function(){window._Plotly.Plots.resize(document.getElementById(\"8ed3b040-6810-43bd-8ab4-a020c219b4dc\"));});</script>"
      ]
     },
     "metadata": {},
     "output_type": "display_data"
    }
   ],
   "source": [
    "count_ordinary_list = []\n",
    "for i in range(1,7):\n",
    "    criteria_1 = df['Legendary'] == False\n",
    "    criteria_2 = df['Generation'] == i\n",
    "    count_ordinary = df[criteria_1 & criteria_2]\n",
    "    count_ordinary = len(count_ordinary)\n",
    "    count_ordinary_list.append(count_ordinary)\n",
    "    \n",
    "count_legendary_list = []\n",
    "for i in range(1,7):\n",
    "    criteria_1 = df['Legendary'] == True\n",
    "    criteria_2 = df['Generation'] == i\n",
    "    count_legendary = df[criteria_1 & criteria_2]\n",
    "    count_legendary = len(count_legendary)\n",
    "    count_legendary_list.append(count_legendary)\n",
    "    \n",
    "trace1 = go.Bar(x = df['Generation'].unique(),\n",
    "               y = count_ordinary_list,\n",
    "               name = 'Ordinary')\n",
    "\n",
    "trace2 = go.Bar(x = df['Generation'].unique(),\n",
    "               y = count_legendary_list,\n",
    "               name = 'Legendary')\n",
    "\n",
    "data = [trace1, trace2]\n",
    "\n",
    "layout = go.Layout(\n",
    "    title='<b>Number of Ordinaries vs Legendaries Pokemon in Each Gen</b>',\n",
    "    barmode='group',\n",
    "    xaxis=dict(\n",
    "        title='Generation',\n",
    "        titlefont=dict(\n",
    "            family='Arial, sans-serif',\n",
    "            size=19,\n",
    "            color='grey'\n",
    "        ),\n",
    "        tickfont=dict(\n",
    "            family='Arial, serif',\n",
    "            size=14,\n",
    "            color='black'\n",
    "        )\n",
    "    )\n",
    "    \n",
    ")\n",
    "\n",
    "fig = go.Figure(data=data, layout=layout)\n",
    "iplot(fig)"
   ]
  },
  {
   "cell_type": "code",
   "execution_count": 16,
   "metadata": {
    "_kg_hide-input": true,
    "_uuid": "0b9501500dd6a8a2ebf18365b76ca9f3e71a1945"
   },
   "outputs": [
    {
     "data": {
      "application/vnd.plotly.v1+json": {
       "config": {
        "linkText": "Export to plot.ly",
        "plotlyServerURL": "https://plot.ly",
        "showLink": false
       },
       "data": [
        {
         "fill": "toself",
         "name": "Legendary",
         "r": [
          93,
          117,
          100,
          122,
          106,
          100
         ],
         "theta": [
          "HP",
          "Attack",
          "Defense",
          "Sp. Atk",
          "Sp. Def",
          "Speed"
         ],
         "type": "scatterpolar",
         "uid": "111a1375-fe7b-447c-b5a1-8788e4797a37"
        },
        {
         "fill": "toself",
         "name": "Ordinary",
         "r": [
          67,
          76,
          72,
          68,
          69,
          65
         ],
         "theta": [
          "HP",
          "Attack",
          "Defense",
          "Sp. Atk",
          "Sp. Def",
          "Speed"
         ],
         "type": "scatterpolar",
         "uid": "41aaa55f-6b0f-47a2-8b63-6a1ad03046cb"
        }
       ],
       "layout": {
        "polar": {
         "radialaxis": {
          "range": [
           0,
           150
          ],
          "visible": true
         }
        },
        "showlegend": true,
        "title": {
         "text": "<b>Ordinary vs Legendary Stats Comparison</b>"
        }
       }
      },
      "text/html": [
       "<div id=\"6b7c5629-1654-495e-bb02-a41b87f44649\" style=\"height: 525px; width: 100%;\" class=\"plotly-graph-div\"></div><script type=\"text/javascript\">require([\"plotly\"], function(Plotly) { window.PLOTLYENV=window.PLOTLYENV || {};window.PLOTLYENV.BASE_URL=\"https://plot.ly\";Plotly.newPlot(\"6b7c5629-1654-495e-bb02-a41b87f44649\", [{\"fill\": \"toself\", \"name\": \"Legendary\", \"r\": [93, 117, 100, 122, 106, 100], \"theta\": [\"HP\", \"Attack\", \"Defense\", \"Sp. Atk\", \"Sp. Def\", \"Speed\"], \"type\": \"scatterpolar\", \"uid\": \"111a1375-fe7b-447c-b5a1-8788e4797a37\"}, {\"fill\": \"toself\", \"name\": \"Ordinary\", \"r\": [67, 76, 72, 68, 69, 65], \"theta\": [\"HP\", \"Attack\", \"Defense\", \"Sp. Atk\", \"Sp. Def\", \"Speed\"], \"type\": \"scatterpolar\", \"uid\": \"41aaa55f-6b0f-47a2-8b63-6a1ad03046cb\"}], {\"polar\": {\"radialaxis\": {\"range\": [0, 150], \"visible\": true}}, \"showlegend\": true, \"title\": {\"text\": \"<b>Ordinary vs Legendary Stats Comparison</b>\"}}, {\"showLink\": false, \"linkText\": \"Export to plot.ly\", \"plotlyServerURL\": \"https://plot.ly\"})});</script><script type=\"text/javascript\">window.addEventListener(\"resize\", function(){window._Plotly.Plots.resize(document.getElementById(\"6b7c5629-1654-495e-bb02-a41b87f44649\"));});</script>"
      ],
      "text/vnd.plotly.v1+html": [
       "<div id=\"6b7c5629-1654-495e-bb02-a41b87f44649\" style=\"height: 525px; width: 100%;\" class=\"plotly-graph-div\"></div><script type=\"text/javascript\">require([\"plotly\"], function(Plotly) { window.PLOTLYENV=window.PLOTLYENV || {};window.PLOTLYENV.BASE_URL=\"https://plot.ly\";Plotly.newPlot(\"6b7c5629-1654-495e-bb02-a41b87f44649\", [{\"fill\": \"toself\", \"name\": \"Legendary\", \"r\": [93, 117, 100, 122, 106, 100], \"theta\": [\"HP\", \"Attack\", \"Defense\", \"Sp. Atk\", \"Sp. Def\", \"Speed\"], \"type\": \"scatterpolar\", \"uid\": \"111a1375-fe7b-447c-b5a1-8788e4797a37\"}, {\"fill\": \"toself\", \"name\": \"Ordinary\", \"r\": [67, 76, 72, 68, 69, 65], \"theta\": [\"HP\", \"Attack\", \"Defense\", \"Sp. Atk\", \"Sp. Def\", \"Speed\"], \"type\": \"scatterpolar\", \"uid\": \"41aaa55f-6b0f-47a2-8b63-6a1ad03046cb\"}], {\"polar\": {\"radialaxis\": {\"range\": [0, 150], \"visible\": true}}, \"showlegend\": true, \"title\": {\"text\": \"<b>Ordinary vs Legendary Stats Comparison</b>\"}}, {\"showLink\": false, \"linkText\": \"Export to plot.ly\", \"plotlyServerURL\": \"https://plot.ly\"})});</script><script type=\"text/javascript\">window.addEventListener(\"resize\", function(){window._Plotly.Plots.resize(document.getElementById(\"6b7c5629-1654-495e-bb02-a41b87f44649\"));});</script>"
      ]
     },
     "metadata": {},
     "output_type": "display_data"
    }
   ],
   "source": [
    "df_ordinary = df[df['Legendary'] == False]\n",
    "ordinary_stats = []\n",
    "for i in range(5,11):\n",
    "    m = df_ordinary.iloc[:,i].mean()\n",
    "    ordinary_stats.append(round(m))\n",
    "\n",
    "df_legendary = df[df['Legendary'] == True]\n",
    "legendary_stats = []\n",
    "for i in range(5,11):\n",
    "    m = df_legendary.iloc[:,i].mean()\n",
    "    legendary_stats.append(round(m))\n",
    "\n",
    "data = [\n",
    "    go.Scatterpolar(\n",
    "      r = legendary_stats,\n",
    "      theta = status_type,\n",
    "      fill = 'toself',\n",
    "      name = 'Legendary'\n",
    "    ),\n",
    "    go.Scatterpolar(\n",
    "      r =ordinary_stats,\n",
    "      theta = status_type,\n",
    "      fill = 'toself',\n",
    "      name = 'Ordinary'\n",
    "    )\n",
    "]\n",
    "\n",
    "layout = go.Layout(\n",
    "    title = '<b>Ordinary vs Legendary Stats Comparison</b>',\n",
    "    polar = dict(\n",
    "        radialaxis = dict(\n",
    "          visible = True,\n",
    "          range = [0, 150]\n",
    "        )\n",
    "      ),\n",
    "    showlegend = True\n",
    ")\n",
    "\n",
    "fig = go.Figure(data=data, layout=layout)\n",
    "iplot(fig)"
   ]
  },
  {
   "cell_type": "markdown",
   "metadata": {
    "_uuid": "cd8d2650953d5c07a74e08e377fd410af7ed19a3"
   },
   "source": [
    "It's not a surprise if Legendary Pokemons are all strong. Now we can see the comparison of their overwhelming stats above."
   ]
  }
 ],
 "metadata": {
  "kernelspec": {
   "display_name": "Python 3.9.12 ('base')",
   "language": "python",
   "name": "python3"
  },
  "language_info": {
   "codemirror_mode": {
    "name": "ipython",
    "version": 3
   },
   "file_extension": ".py",
   "mimetype": "text/x-python",
   "name": "python",
   "nbconvert_exporter": "python",
   "pygments_lexer": "ipython3",
   "version": "3.9.12"
  },
  "vscode": {
   "interpreter": {
    "hash": "a90aeebcf29d64a654773811cc170cb25061cb2498f10ac689db374c7bf325de"
   }
  }
 },
 "nbformat": 4,
 "nbformat_minor": 1
}
